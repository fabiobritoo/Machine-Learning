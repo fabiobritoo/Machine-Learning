{
  "nbformat": 4,
  "nbformat_minor": 0,
  "metadata": {
    "colab": {
      "name": "KMEANS + PCA.ipynb",
      "provenance": [],
      "collapsed_sections": []
    },
    "kernelspec": {
      "name": "python3",
      "display_name": "Python 3"
    },
    "language_info": {
      "name": "python"
    }
  },
  "cells": [
    {
      "cell_type": "code",
      "source": [
        "# Importando os dados\n",
        "\n",
        "import pandas as pd\n",
        "url = \"https://archive.ics.uci.edu/ml/machine-learning-databases/iris/iris.data\"\n",
        "new_names = ['Comprimento_sepal','Largura_sepal','Comprimento_length','Largura_width','Classificacao']\n",
        "dataset = pd.read_csv(url, names=new_names, skiprows=0, delimiter=',')\n",
        "dados = dataset.drop(\"Classificacao\", axis=1)\n",
        "\n",
        "# Escalonar e Não Normalizar, caso queira. o Escalonamento faz com que a variância de cada variável seja unitária para o modelo performar melhor \n",
        "\n",
        "from sklearn.preprocessing import StandardScaler\n",
        "escala = StandardScaler()\n",
        "dados_escalonados = escala.fit_transform(dados)\n",
        "print(dados_escalonados)"
      ],
      "metadata": {
        "id": "n3JPeD2OyJN7"
      },
      "execution_count": null,
      "outputs": []
    },
    {
      "cell_type": "code",
      "execution_count": null,
      "metadata": {
        "id": "8cxDgCrNxDiA",
        "colab": {
          "base_uri": "https://localhost:8080/",
          "height": 578
        },
        "outputId": "0a83922a-bc94-477e-d009-02c64f8055f0"
      },
      "outputs": [
        {
          "output_type": "stream",
          "name": "stderr",
          "text": [
            "/usr/local/lib/python3.7/dist-packages/seaborn/_decorators.py:43: FutureWarning: Pass the following variables as keyword args: x, y. From version 0.12, the only valid positional argument will be `data`, and passing other arguments without an explicit keyword will result in an error or misinterpretation.\n",
            "  FutureWarning\n"
          ]
        },
        {
          "output_type": "execute_result",
          "data": {
            "text/plain": [
              "[600.0,\n",
              " 223.73200573676345,\n",
              " 140.96581663074699,\n",
              " 114.61550694959806,\n",
              " 91.19197002146461,\n",
              " 80.23060704506955,\n",
              " 72.50002965891882,\n",
              " 62.66035232447274,\n",
              " 55.28220712380386,\n",
              " 47.8509213570517]"
            ]
          },
          "metadata": {},
          "execution_count": 2
        },
        {
          "output_type": "display_data",
          "data": {
            "text/plain": [
              "<Figure size 720x360 with 1 Axes>"
            ],
            "image/png": "[encoded data removed]"
          },
          "metadata": {
            "needs_background": "light"
          }
        }
      ],
      "source": [
        "# Metodo Elbow para definiri a quantidade de Cluster (K)\n",
        "import matplotlib.pyplot as plt\n",
        "import seaborn as sb\n",
        "\n",
        "def elbow(dados_escalonados):\n",
        "  from sklearn.cluster import KMeans\n",
        "  wcss = []\n",
        "  for i in range(1,11):\n",
        "    kmeans = KMeans(n_clusters=i, init='k-means++', random_state = 5, max_iter = 300)\n",
        "    kmeans.fit(dados_escalonados)\n",
        "    wcss.append(kmeans.inertia_)\n",
        "  #Plota Metodo Elbow\n",
        "  plt.figure(figsize=(10,5))\n",
        "  sb.lineplot(range(1,11), wcss, marker='o', color='red')\n",
        "  plt.title('Metodo de Elbow')\n",
        "  plt.xlabel('Numero de cluster')\n",
        "  plt.ylabel('WCSS')\n",
        "  return wcss\n",
        "elbow(dados_escalonados)"
      ]
    },
    {
      "cell_type": "code",
      "source": [
        "from sklearn.cluster import KMeans\n",
        "\n",
        "#Treinando o Modelo\n",
        "kmeans = KMeans(n_clusters=3,init=\"k-means++\",random_state=0)\n",
        "#Sem dados escalonados\n",
        "kmeans2 = kmeans.fit(dados)\n",
        "#Com os dados escalonados\n",
        "#kmeans2 = kmeans.fit(dados_escalonados)\n",
        "\n",
        "centroides = kmeans2.cluster_centers_\n",
        "#print(centroides)\n",
        "\n",
        "agrupamento = kmeans2.labels_\n",
        "agrupamento"
      ],
      "metadata": {
        "id": "jHn6sJHV28I1",
        "colab": {
          "base_uri": "https://localhost:8080/"
        },
        "outputId": "90d8b473-4579-4142-8a93-bd3d7b6e4874"
      },
      "execution_count": null,
      "outputs": [
        {
          "output_type": "execute_result",
          "data": {
            "text/plain": [
              "array([1, 1, 1, 1, 1, 1, 1, 1, 1, 1, 1, 1, 1, 1, 1, 1, 1, 1, 1, 1, 1, 1,\n",
              "       1, 1, 1, 1, 1, 1, 1, 1, 1, 1, 1, 1, 1, 1, 1, 1, 1, 1, 1, 1, 1, 1,\n",
              "       1, 1, 1, 1, 1, 1, 0, 0, 2, 0, 0, 0, 0, 0, 0, 0, 0, 0, 0, 0, 0, 0,\n",
              "       0, 0, 0, 0, 0, 0, 0, 0, 0, 0, 0, 2, 0, 0, 0, 0, 0, 0, 0, 0, 0, 0,\n",
              "       0, 0, 0, 0, 0, 0, 0, 0, 0, 0, 0, 0, 2, 0, 2, 2, 2, 2, 0, 2, 2, 2,\n",
              "       2, 2, 2, 0, 0, 2, 2, 2, 2, 0, 2, 0, 2, 0, 2, 2, 0, 0, 2, 2, 2, 2,\n",
              "       2, 0, 2, 2, 2, 2, 0, 2, 2, 2, 0, 2, 2, 2, 0, 2, 2, 0], dtype=int32)"
            ]
          },
          "metadata": {},
          "execution_count": 3
        }
      ]
    },
    {
      "cell_type": "code",
      "source": [
        "#Inserindo a coluna Grupo\n",
        "dados['Grupo'] = agrupamento\n",
        "dados.head(70)"
      ],
      "metadata": {
        "id": "MmC7GD7c6GT3"
      },
      "execution_count": null,
      "outputs": []
    },
    {
      "cell_type": "code",
      "source": [
        "# PCA para plotar o gráfico\n",
        "\n",
        "from sklearn.decomposition import PCA\n",
        "pca = PCA(n_components = 2)\n",
        "\n",
        "dados_pca = pca.fit_transform(dados_escalonados)\n",
        "#print(dados_pca)\n",
        "\n",
        "# Variáveis explicativas\n",
        "print(pca.explained_variance_ratio_)\n",
        "print(pca.explained_variance_ratio_.sum())\n",
        "\n",
        "#Elbow\n",
        "print(elbow(dados_pca))\n",
        "\n",
        "kmeans = KMeans(n_clusters=3,init=\"k-means++\",random_state=0)\n",
        "kmeans2 = kmeans.fit(dados_pca)\n",
        "\n",
        "centroides = kmeans2.cluster_centers_\n",
        "\n",
        "agrupamento = kmeans2.labels_\n",
        "agrupamento\n",
        "\n",
        "#Plotar o Grafico\n",
        "import plotly.express as px\n",
        "import plotly.graph_objects as go\n",
        "\n",
        "graf1 = px.scatter(x=dados_pca[:,0], y=dados_pca[:,1], color=agrupamento)\n",
        "graf2 = px.scatter(x=centroides[:,0], y=centroides[:,1], size = [15,15,15]) #size é o numero de cluster\n",
        "graf3 = go.Figure(data = graf1.data + graf2.data)\n",
        "graf3.update_layout(width=800,height=500,title_text='Agrupamento K-Means com PCA')\n",
        "graf3.update_xaxes(title = 'Componente 1')\n",
        "graf3.update_yaxes(title = 'Componente 1')\n",
        "\n",
        "graf3.show()\n",
        "\n"
      ],
      "metadata": {
        "colab": {
          "base_uri": "https://localhost:8080/",
          "height": 957
        },
        "id": "xLUT0X659CBX",
        "outputId": "1a01b5d6-3d93-4be7-b987-65ef6dfdba78"
      },
      "execution_count": null,
      "outputs": [
        {
          "output_type": "stream",
          "name": "stdout",
          "text": [
            "[0.72770452 0.23030523]\n",
            "0.9580097536148197\n"
          ]
        },
        {
          "output_type": "stream",
          "name": "stderr",
          "text": [
            "/usr/local/lib/python3.7/dist-packages/seaborn/_decorators.py:43: FutureWarning: Pass the following variables as keyword args: x, y. From version 0.12, the only valid positional argument will be `data`, and passing other arguments without an explicit keyword will result in an error or misinterpretation.\n",
            "  FutureWarning\n"
          ]
        },
        {
          "output_type": "stream",
          "name": "stdout",
          "text": [
            "[574.8058521688916, 198.70683592637357, 116.10924021401527, 89.68987502512226, 66.3175495444791, 57.00855078122429, 47.86117712433257, 39.259350653667276, 32.14134238532108, 28.907008880252526]\n"
          ]
        },
        {
          "output_type": "display_data",
          "data": {
            "text/html": [
              "<html>\n",
              "<head><meta charset=\"utf-8\" /></head>\n",
              "<body>\n",
              "    <div>            <script src=\"https://cdnjs.cloudflare.com/ajax/libs/mathjax/2.7.5/MathJax.js?config=TeX-AMS-MML_SVG\"></script><script type=\"text/javascript\">if (window.MathJax) {MathJax.Hub.Config({SVG: {font: \"STIX-Web\"}});}</script>                <script type=\"text/javascript\">window.PlotlyConfig = {MathJaxConfig: 'local'};</script>\n",
              "        <script src=\"https://cdn.plot.ly/plotly-2.8.3.min.js\"></script>                <div id=\"b9bdfd1a-7ddd-4071-9726-ed560de049c1\" class=\"plotly-graph-div\" style=\"height:500px; width:800px;\"></div>            <script type=\"text/javascript\">                                    window.PLOTLYENV=window.PLOTLYENV || {};                                    if (document.getElementById(\"b9bdfd1a-7ddd-4071-9726-ed560de049c1\")) {                    Plotly.newPlot(                        \"b9bdfd1a-7ddd-4071-9726-ed560de049c1\",                        [{\"hovertemplate\":\"x=%{x}<br>y=%{y}<br>color=%{marker.color}<extra></extra>\",\"legendgroup\":\"\",\"marker\":{\"color\":[0,0,0,0,0,0,0,0,0,0,0,0,0,0,0,0,0,0,0,0,0,0,0,0,0,0,0,0,0,0,0,0,0,0,0,0,0,0,0,0,0,0,0,0,0,0,0,0,0,0,2,2,2,1,1,1,2,1,1,1,1,1,1,1,1,2,1,1,1,1,2,1,1,1,1,2,2,2,1,1,1,1,1,1,1,2,2,1,1,1,1,1,1,1,1,1,1,1,1,1,2,1,2,2,2,2,1,2,2,2,2,2,2,1,1,2,2,2,2,1,2,1,2,1,2,2,1,2,2,2,2,2,2,1,1,2,2,2,1,2,2,2,1,2,2,2,1,2,2,1],\"coloraxis\":\"coloraxis\",\"symbol\":\"circle\"},\"mode\":\"markers\",\"name\":\"\",\"orientation\":\"v\",\"showlegend\":false,\"x\":[-2.264541728394904,-2.0864255006161585,-2.3679504490625254,-2.3041971611520085,-2.388777493505642,-2.070536807180553,-2.445711339630283,-2.233841858709265,-2.34195767645539,-2.1886757552808693,-2.1634865562665224,-2.3273777541343734,-2.2240827220450017,-2.6397162608446285,-2.192291508498429,-2.251465214584065,-2.2027504800800854,-2.1901791637910515,-1.8940742930236678,-2.339949070423408,-1.9145563949595168,-2.2046453975338136,-2.7741697937051564,-1.8204115633372135,-2.2282174994597246,-1.9570240073413967,-2.052063311276686,-2.168193653345021,-2.140305963284157,-2.2687901943878765,-2.1445544292771346,-1.8319381022015866,-2.6082028676633473,-2.4379508590951424,-2.1886757552808693,-2.2111198968124217,-2.0444165193198,-2.1886757552808693,-2.4359522029660194,-2.17054720188427,-2.28652723884093,-1.8717072235369503,-2.5578344195375124,-1.9642792903547368,-2.1333728329200277,-2.075357592837306,-2.381258216802373,-2.398191687662638,-2.226781213091518,-2.205954168648402,1.103993652804572,0.7324814400086805,1.2421095053189373,0.39730728282332733,1.0725939482015447,0.38445814616900154,0.7487150759515527,-0.49786338779811795,0.9262223675330981,0.004968025584319377,-0.12469746138037044,0.43873011778054666,0.5516339814225074,0.7171650662368511,-0.037258382965688376,0.8758905359406827,0.34800640198020866,0.153392544568667,1.2153032092161538,0.15694117564425078,0.7382561043698959,0.47236968234456833,1.2279882140834422,0.6293810453149017,0.7004727992084581,0.8735369874014334,1.2542221905224498,1.3582398473872712,0.6621261375659375,-0.04728151331988013,0.12153420888011877,0.014118226051387787,0.23601083732659692,1.0566914280905766,0.22141708833021806,0.43178316074105344,1.0494133552191798,1.0358782103228243,0.06706759987298028,0.2754250662518342,0.27233506626177206,0.6231705397262214,0.3300053638372265,-0.373627622687376,0.2829443429551028,0.0890531103190114,0.2243567832086061,0.5738834855584668,-0.4570128725046746,0.2522444732694693,1.8476725943096641,1.1531898082521295,2.206349497126593,1.438685402326182,1.8678907025555844,2.7541967088257517,0.35837447484166807,2.3030058981503188,2.0017352992189164,2.267554599102268,1.365909429202214,1.5990645856518693,1.8842518537520743,1.2530865143775918,1.4640615229856226,1.5918093026385285,1.4712801894655436,2.437378482193507,3.309141182676079,1.2539809866905776,2.0404962596630387,0.9739151144704737,2.8980644358432763,1.3291936913234932,1.7042407085196056,1.957727661793435,1.1719045079878685,1.019781052816263,1.7860088612484681,1.8647779127074657,2.4354973914151423,2.3160824119611534,1.860371425852316,1.111271725675969,1.1974691551180376,2.800949403734028,1.5801552485205366,1.3470444243548014,0.9234329777663841,1.8535519840664405,2.0161572006777586,1.9031168585994869,1.1531898082521295,2.043308439287809,2.001690966934998,1.870522071460125,1.558491890723717,1.5208450639985898,1.3763911906419275,0.9592985756160379],\"xaxis\":\"x\",\"y\":[0.5057039027737841,-0.6554047293691346,-0.3184773108472492,-0.5753677125331953,0.6747673967025152,1.518548559888513,0.07456267500687389,0.24761393175226507,-1.0951463625829554,-0.44862904833755896,1.0705955760377264,0.15858745465947602,-0.709118158030226,-0.938281982107854,1.8899785123164656,2.722371076574469,1.5137502825462188,0.5143043082206927,1.431110706941237,1.1580334289850007,0.4304651632801381,0.952457317288998,0.48951702650349477,0.10675079283540627,0.16218616266619693,-0.6078925674838078,0.26601431198165504,0.5520164953235399,0.3366404088450542,-0.31487860284052827,-0.48394209676925876,0.4452668355028073,1.8284751927341,2.1853916156308917,-0.44862904833755896,-0.18433781054027856,0.6849564262949368,-0.44862904833755896,-0.882169414775617,0.29272695496644646,0.46799171567093784,-2.3276916061149096,-0.45381638048979317,0.4973916400183832,1.1714321117742033,-0.6919173471364096,1.1506325928736663,-0.3623907647258571,1.0254825528235447,0.0322378452737796,0.8631124458513245,0.5986355733419972,0.6148224496122869,-1.7581689474435256,-0.2117579026798954,-0.5910624686227365,0.7786986113887819,-1.8488687712754417,0.03033082678338136,-1.029401112403088,-2.6580626779617607,-0.05888128502145437,-1.7725815648562542,-0.18543431450504383,-0.4327950987141687,0.5099981510591476,-0.19062164665727788,-0.7907254562344853,-1.633355644515482,-1.3031032701729108,0.4024703816185357,-0.4166082224438792,-0.940914792530272,-0.4168116425417719,-0.06349392765170202,0.25070861070205414,-0.0826200998131122,0.3288202662704021,-0.22434607094346407,-1.0572124126050202,-1.5635923798655775,-1.5733923546480593,-0.7759237840118163,-0.6369012837689368,-0.2808476930856404,0.8551369202180025,0.5221972645127767,-1.39246648438778,-0.21262073489338879,-1.3298159131577019,-1.1194415241194038,0.027542633302294464,-0.9889007318191547,-2.017932265204172,-0.85395071698655,-0.17490854779054174,-0.3804846594865455,-0.15371997408006488,-1.5394645102639806,-0.595860745965031,0.8716966617734127,-0.7013261138565754,0.5544701049349228,-0.05001052226888553,0.29119280176116913,0.7884322063548452,-1.560094583977289,0.4095166952219437,-0.723865359312659,1.9214429914653548,0.6939480398041611,-0.42824883590033935,0.4143327579500842,-1.1673913352452454,-0.4441475694791236,0.6770353716018516,0.25319247196681555,2.5567573414948015,-0.0023613201020824923,-1.7175838442659768,0.9073987650150531,-0.5711743763662661,0.3977913591718686,-0.4867605419037237,1.014148424835785,1.0033345154297773,-0.3188966173105676,0.06554296309664809,-0.19327279985689128,0.55538153157899,0.24665446806897456,2.6261838690226273,-0.18467239440998312,-0.29598610243039014,-0.8171677419136159,0.8447481937849748,1.0724744961271222,0.42225596589554615,0.019230370546893197,0.672422728971604,0.6103970375551129,0.6860248318586996,-0.7013261138565754,0.8646848804720187,1.0485500466234177,0.3828218376229984,-0.9053136014070654,0.2667945748539109,1.0163619287948853,-0.022283944660567125],\"yaxis\":\"y\",\"type\":\"scatter\"},{\"hovertemplate\":\"x=%{x}<br>y=%{y}<br>size=%{marker.size}<extra></extra>\",\"legendgroup\":\"\",\"marker\":{\"color\":\"#636efa\",\"size\":[15,15,15],\"sizemode\":\"area\",\"sizeref\":0.0375,\"symbol\":\"circle\"},\"mode\":\"markers\",\"name\":\"\",\"orientation\":\"v\",\"showlegend\":false,\"x\":[-2.2201932809264653,0.5671380281012414,1.7223691182331382],\"xaxis\":\"x\",\"y\":[0.29222481966667335,-0.8076750979123467,0.5999050894898028],\"yaxis\":\"y\",\"type\":\"scatter\"}],                        {\"template\":{\"data\":{\"bar\":[{\"error_x\":{\"color\":\"#2a3f5f\"},\"error_y\":{\"color\":\"#2a3f5f\"},\"marker\":{\"line\":{\"color\":\"#E5ECF6\",\"width\":0.5},\"pattern\":{\"fillmode\":\"overlay\",\"size\":10,\"solidity\":0.2}},\"type\":\"bar\"}],\"barpolar\":[{\"marker\":{\"line\":{\"color\":\"#E5ECF6\",\"width\":0.5},\"pattern\":{\"fillmode\":\"overlay\",\"size\":10,\"solidity\":0.2}},\"type\":\"barpolar\"}],\"carpet\":[{\"aaxis\":{\"endlinecolor\":\"#2a3f5f\",\"gridcolor\":\"white\",\"linecolor\":\"white\",\"minorgridcolor\":\"white\",\"startlinecolor\":\"#2a3f5f\"},\"baxis\":{\"endlinecolor\":\"#2a3f5f\",\"gridcolor\":\"white\",\"linecolor\":\"white\",\"minorgridcolor\":\"white\",\"startlinecolor\":\"#2a3f5f\"},\"type\":\"carpet\"}],\"choropleth\":[{\"colorbar\":{\"outlinewidth\":0,\"ticks\":\"\"},\"type\":\"choropleth\"}],\"contour\":[{\"colorbar\":{\"outlinewidth\":0,\"ticks\":\"\"},\"colorscale\":[[0.0,\"#0d0887\"],[0.1111111111111111,\"#46039f\"],[0.2222222222222222,\"#7201a8\"],[0.3333333333333333,\"#9c179e\"],[0.4444444444444444,\"#bd3786\"],[0.5555555555555556,\"#d8576b\"],[0.6666666666666666,\"#ed7953\"],[0.7777777777777778,\"#fb9f3a\"],[0.8888888888888888,\"#fdca26\"],[1.0,\"#f0f921\"]],\"type\":\"contour\"}],\"contourcarpet\":[{\"colorbar\":{\"outlinewidth\":0,\"ticks\":\"\"},\"type\":\"contourcarpet\"}],\"heatmap\":[{\"colorbar\":{\"outlinewidth\":0,\"ticks\":\"\"},\"colorscale\":[[0.0,\"#0d0887\"],[0.1111111111111111,\"#46039f\"],[0.2222222222222222,\"#7201a8\"],[0.3333333333333333,\"#9c179e\"],[0.4444444444444444,\"#bd3786\"],[0.5555555555555556,\"#d8576b\"],[0.6666666666666666,\"#ed7953\"],[0.7777777777777778,\"#fb9f3a\"],[0.8888888888888888,\"#fdca26\"],[1.0,\"#f0f921\"]],\"type\":\"heatmap\"}],\"heatmapgl\":[{\"colorbar\":{\"outlinewidth\":0,\"ticks\":\"\"},\"colorscale\":[[0.0,\"#0d0887\"],[0.1111111111111111,\"#46039f\"],[0.2222222222222222,\"#7201a8\"],[0.3333333333333333,\"#9c179e\"],[0.4444444444444444,\"#bd3786\"],[0.5555555555555556,\"#d8576b\"],[0.6666666666666666,\"#ed7953\"],[0.7777777777777778,\"#fb9f3a\"],[0.8888888888888888,\"#fdca26\"],[1.0,\"#f0f921\"]],\"type\":\"heatmapgl\"}],\"histogram\":[{\"marker\":{\"pattern\":{\"fillmode\":\"overlay\",\"size\":10,\"solidity\":0.2}},\"type\":\"histogram\"}],\"histogram2d\":[{\"colorbar\":{\"outlinewidth\":0,\"ticks\":\"\"},\"colorscale\":[[0.0,\"#0d0887\"],[0.1111111111111111,\"#46039f\"],[0.2222222222222222,\"#7201a8\"],[0.3333333333333333,\"#9c179e\"],[0.4444444444444444,\"#bd3786\"],[0.5555555555555556,\"#d8576b\"],[0.6666666666666666,\"#ed7953\"],[0.7777777777777778,\"#fb9f3a\"],[0.8888888888888888,\"#fdca26\"],[1.0,\"#f0f921\"]],\"type\":\"histogram2d\"}],\"histogram2dcontour\":[{\"colorbar\":{\"outlinewidth\":0,\"ticks\":\"\"},\"colorscale\":[[0.0,\"#0d0887\"],[0.1111111111111111,\"#46039f\"],[0.2222222222222222,\"#7201a8\"],[0.3333333333333333,\"#9c179e\"],[0.4444444444444444,\"#bd3786\"],[0.5555555555555556,\"#d8576b\"],[0.6666666666666666,\"#ed7953\"],[0.7777777777777778,\"#fb9f3a\"],[0.8888888888888888,\"#fdca26\"],[1.0,\"#f0f921\"]],\"type\":\"histogram2dcontour\"}],\"mesh3d\":[{\"colorbar\":{\"outlinewidth\":0,\"ticks\":\"\"},\"type\":\"mesh3d\"}],\"parcoords\":[{\"line\":{\"colorbar\":{\"outlinewidth\":0,\"ticks\":\"\"}},\"type\":\"parcoords\"}],\"pie\":[{\"automargin\":true,\"type\":\"pie\"}],\"scatter\":[{\"marker\":{\"colorbar\":{\"outlinewidth\":0,\"ticks\":\"\"}},\"type\":\"scatter\"}],\"scatter3d\":[{\"line\":{\"colorbar\":{\"outlinewidth\":0,\"ticks\":\"\"}},\"marker\":{\"colorbar\":{\"outlinewidth\":0,\"ticks\":\"\"}},\"type\":\"scatter3d\"}],\"scattercarpet\":[{\"marker\":{\"colorbar\":{\"outlinewidth\":0,\"ticks\":\"\"}},\"type\":\"scattercarpet\"}],\"scattergeo\":[{\"marker\":{\"colorbar\":{\"outlinewidth\":0,\"ticks\":\"\"}},\"type\":\"scattergeo\"}],\"scattergl\":[{\"marker\":{\"colorbar\":{\"outlinewidth\":0,\"ticks\":\"\"}},\"type\":\"scattergl\"}],\"scattermapbox\":[{\"marker\":{\"colorbar\":{\"outlinewidth\":0,\"ticks\":\"\"}},\"type\":\"scattermapbox\"}],\"scatterpolar\":[{\"marker\":{\"colorbar\":{\"outlinewidth\":0,\"ticks\":\"\"}},\"type\":\"scatterpolar\"}],\"scatterpolargl\":[{\"marker\":{\"colorbar\":{\"outlinewidth\":0,\"ticks\":\"\"}},\"type\":\"scatterpolargl\"}],\"scatterternary\":[{\"marker\":{\"colorbar\":{\"outlinewidth\":0,\"ticks\":\"\"}},\"type\":\"scatterternary\"}],\"surface\":[{\"colorbar\":{\"outlinewidth\":0,\"ticks\":\"\"},\"colorscale\":[[0.0,\"#0d0887\"],[0.1111111111111111,\"#46039f\"],[0.2222222222222222,\"#7201a8\"],[0.3333333333333333,\"#9c179e\"],[0.4444444444444444,\"#bd3786\"],[0.5555555555555556,\"#d8576b\"],[0.6666666666666666,\"#ed7953\"],[0.7777777777777778,\"#fb9f3a\"],[0.8888888888888888,\"#fdca26\"],[1.0,\"#f0f921\"]],\"type\":\"surface\"}],\"table\":[{\"cells\":{\"fill\":{\"color\":\"#EBF0F8\"},\"line\":{\"color\":\"white\"}},\"header\":{\"fill\":{\"color\":\"#C8D4E3\"},\"line\":{\"color\":\"white\"}},\"type\":\"table\"}]},\"layout\":{\"annotationdefaults\":{\"arrowcolor\":\"#2a3f5f\",\"arrowhead\":0,\"arrowwidth\":1},\"autotypenumbers\":\"strict\",\"coloraxis\":{\"colorbar\":{\"outlinewidth\":0,\"ticks\":\"\"}},\"colorscale\":{\"diverging\":[[0,\"#8e0152\"],[0.1,\"#c51b7d\"],[0.2,\"#de77ae\"],[0.3,\"#f1b6da\"],[0.4,\"#fde0ef\"],[0.5,\"#f7f7f7\"],[0.6,\"#e6f5d0\"],[0.7,\"#b8e186\"],[0.8,\"#7fbc41\"],[0.9,\"#4d9221\"],[1,\"#276419\"]],\"sequential\":[[0.0,\"#0d0887\"],[0.1111111111111111,\"#46039f\"],[0.2222222222222222,\"#7201a8\"],[0.3333333333333333,\"#9c179e\"],[0.4444444444444444,\"#bd3786\"],[0.5555555555555556,\"#d8576b\"],[0.6666666666666666,\"#ed7953\"],[0.7777777777777778,\"#fb9f3a\"],[0.8888888888888888,\"#fdca26\"],[1.0,\"#f0f921\"]],\"sequentialminus\":[[0.0,\"#0d0887\"],[0.1111111111111111,\"#46039f\"],[0.2222222222222222,\"#7201a8\"],[0.3333333333333333,\"#9c179e\"],[0.4444444444444444,\"#bd3786\"],[0.5555555555555556,\"#d8576b\"],[0.6666666666666666,\"#ed7953\"],[0.7777777777777778,\"#fb9f3a\"],[0.8888888888888888,\"#fdca26\"],[1.0,\"#f0f921\"]]},\"colorway\":[\"#636efa\",\"#EF553B\",\"#00cc96\",\"#ab63fa\",\"#FFA15A\",\"#19d3f3\",\"#FF6692\",\"#B6E880\",\"#FF97FF\",\"#FECB52\"],\"font\":{\"color\":\"#2a3f5f\"},\"geo\":{\"bgcolor\":\"white\",\"lakecolor\":\"white\",\"landcolor\":\"#E5ECF6\",\"showlakes\":true,\"showland\":true,\"subunitcolor\":\"white\"},\"hoverlabel\":{\"align\":\"left\"},\"hovermode\":\"closest\",\"mapbox\":{\"style\":\"light\"},\"paper_bgcolor\":\"white\",\"plot_bgcolor\":\"#E5ECF6\",\"polar\":{\"angularaxis\":{\"gridcolor\":\"white\",\"linecolor\":\"white\",\"ticks\":\"\"},\"bgcolor\":\"#E5ECF6\",\"radialaxis\":{\"gridcolor\":\"white\",\"linecolor\":\"white\",\"ticks\":\"\"}},\"scene\":{\"xaxis\":{\"backgroundcolor\":\"#E5ECF6\",\"gridcolor\":\"white\",\"gridwidth\":2,\"linecolor\":\"white\",\"showbackground\":true,\"ticks\":\"\",\"zerolinecolor\":\"white\"},\"yaxis\":{\"backgroundcolor\":\"#E5ECF6\",\"gridcolor\":\"white\",\"gridwidth\":2,\"linecolor\":\"white\",\"showbackground\":true,\"ticks\":\"\",\"zerolinecolor\":\"white\"},\"zaxis\":{\"backgroundcolor\":\"#E5ECF6\",\"gridcolor\":\"white\",\"gridwidth\":2,\"linecolor\":\"white\",\"showbackground\":true,\"ticks\":\"\",\"zerolinecolor\":\"white\"}},\"shapedefaults\":{\"line\":{\"color\":\"#2a3f5f\"}},\"ternary\":{\"aaxis\":{\"gridcolor\":\"white\",\"linecolor\":\"white\",\"ticks\":\"\"},\"baxis\":{\"gridcolor\":\"white\",\"linecolor\":\"white\",\"ticks\":\"\"},\"bgcolor\":\"#E5ECF6\",\"caxis\":{\"gridcolor\":\"white\",\"linecolor\":\"white\",\"ticks\":\"\"}},\"title\":{\"x\":0.05},\"xaxis\":{\"automargin\":true,\"gridcolor\":\"white\",\"linecolor\":\"white\",\"ticks\":\"\",\"title\":{\"standoff\":15},\"zerolinecolor\":\"white\",\"zerolinewidth\":2},\"yaxis\":{\"automargin\":true,\"gridcolor\":\"white\",\"linecolor\":\"white\",\"ticks\":\"\",\"title\":{\"standoff\":15},\"zerolinecolor\":\"white\",\"zerolinewidth\":2}}},\"title\":{\"text\":\"Agrupamento K-Means com PCA\"},\"width\":800,\"height\":500,\"xaxis\":{\"title\":{\"text\":\"Componente 1\"}},\"yaxis\":{\"title\":{\"text\":\"Componente 1\"}}},                        {\"responsive\": true}                    ).then(function(){\n",
              "                            \n",
              "var gd = document.getElementById('b9bdfd1a-7ddd-4071-9726-ed560de049c1');\n",
              "var x = new MutationObserver(function (mutations, observer) {{\n",
              "        var display = window.getComputedStyle(gd).display;\n",
              "        if (!display || display === 'none') {{\n",
              "            console.log([gd, 'removed!']);\n",
              "            Plotly.purge(gd);\n",
              "            observer.disconnect();\n",
              "        }}\n",
              "}});\n",
              "\n",
              "// Listen for the removal of the full notebook cells\n",
              "var notebookContainer = gd.closest('#notebook-container');\n",
              "if (notebookContainer) {{\n",
              "    x.observe(notebookContainer, {childList: true});\n",
              "}}\n",
              "\n",
              "// Listen for the clearing of the current output cell\n",
              "var outputEl = gd.closest('.output');\n",
              "if (outputEl) {{\n",
              "    x.observe(outputEl, {childList: true});\n",
              "}}\n",
              "\n",
              "                        })                };                            </script>        </div>\n",
              "</body>\n",
              "</html>"
            ]
          },
          "metadata": {}
        },
        {
          "output_type": "display_data",
          "data": {
            "text/plain": [
              "<Figure size 720x360 with 1 Axes>"
            ],
            "image/png": "[encoded data removed]"
          },
          "metadata": {
            "needs_background": "light"
          }
        }
      ]
    }
  ]
}