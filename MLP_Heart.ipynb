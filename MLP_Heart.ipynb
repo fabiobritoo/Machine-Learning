{
 "cells": [
  {
   "cell_type": "markdown",
   "metadata": {},
   "source": [
    "#### Implementação do K-Means"
   ]
  },
  {
   "cell_type": "code",
   "execution_count": 1,
   "metadata": {},
   "outputs": [],
   "source": [
    "import warnings\n",
    "warnings.filterwarnings('ignore')"
   ]
  },
  {
   "cell_type": "code",
   "execution_count": 18,
   "metadata": {},
   "outputs": [
    {
     "data": {
      "text/html": [
       "<div>\n",
       "<style scoped>\n",
       "    .dataframe tbody tr th:only-of-type {\n",
       "        vertical-align: middle;\n",
       "    }\n",
       "\n",
       "    .dataframe tbody tr th {\n",
       "        vertical-align: top;\n",
       "    }\n",
       "\n",
       "    .dataframe thead th {\n",
       "        text-align: right;\n",
       "    }\n",
       "</style>\n",
       "<table border=\"1\" class=\"dataframe\">\n",
       "  <thead>\n",
       "    <tr style=\"text-align: right;\">\n",
       "      <th></th>\n",
       "      <th>age</th>\n",
       "      <th>sex</th>\n",
       "      <th>cp</th>\n",
       "      <th>trestbps</th>\n",
       "      <th>chol</th>\n",
       "      <th>fbs</th>\n",
       "      <th>restecg</th>\n",
       "      <th>thalach</th>\n",
       "      <th>exang</th>\n",
       "      <th>oldpeak</th>\n",
       "      <th>slope</th>\n",
       "      <th>ca</th>\n",
       "      <th>thal</th>\n",
       "      <th>target</th>\n",
       "    </tr>\n",
       "  </thead>\n",
       "  <tbody>\n",
       "    <tr>\n",
       "      <th>0</th>\n",
       "      <td>63</td>\n",
       "      <td>1</td>\n",
       "      <td>3</td>\n",
       "      <td>145</td>\n",
       "      <td>233</td>\n",
       "      <td>1</td>\n",
       "      <td>0</td>\n",
       "      <td>150</td>\n",
       "      <td>0</td>\n",
       "      <td>2.3</td>\n",
       "      <td>0</td>\n",
       "      <td>0</td>\n",
       "      <td>1</td>\n",
       "      <td>1</td>\n",
       "    </tr>\n",
       "    <tr>\n",
       "      <th>1</th>\n",
       "      <td>37</td>\n",
       "      <td>1</td>\n",
       "      <td>2</td>\n",
       "      <td>130</td>\n",
       "      <td>250</td>\n",
       "      <td>0</td>\n",
       "      <td>1</td>\n",
       "      <td>187</td>\n",
       "      <td>0</td>\n",
       "      <td>3.5</td>\n",
       "      <td>0</td>\n",
       "      <td>0</td>\n",
       "      <td>2</td>\n",
       "      <td>1</td>\n",
       "    </tr>\n",
       "    <tr>\n",
       "      <th>2</th>\n",
       "      <td>41</td>\n",
       "      <td>0</td>\n",
       "      <td>1</td>\n",
       "      <td>130</td>\n",
       "      <td>204</td>\n",
       "      <td>0</td>\n",
       "      <td>0</td>\n",
       "      <td>172</td>\n",
       "      <td>0</td>\n",
       "      <td>1.4</td>\n",
       "      <td>2</td>\n",
       "      <td>0</td>\n",
       "      <td>2</td>\n",
       "      <td>1</td>\n",
       "    </tr>\n",
       "    <tr>\n",
       "      <th>3</th>\n",
       "      <td>56</td>\n",
       "      <td>1</td>\n",
       "      <td>1</td>\n",
       "      <td>120</td>\n",
       "      <td>236</td>\n",
       "      <td>0</td>\n",
       "      <td>1</td>\n",
       "      <td>178</td>\n",
       "      <td>0</td>\n",
       "      <td>0.8</td>\n",
       "      <td>2</td>\n",
       "      <td>0</td>\n",
       "      <td>2</td>\n",
       "      <td>1</td>\n",
       "    </tr>\n",
       "    <tr>\n",
       "      <th>4</th>\n",
       "      <td>57</td>\n",
       "      <td>0</td>\n",
       "      <td>0</td>\n",
       "      <td>120</td>\n",
       "      <td>354</td>\n",
       "      <td>0</td>\n",
       "      <td>1</td>\n",
       "      <td>163</td>\n",
       "      <td>1</td>\n",
       "      <td>0.6</td>\n",
       "      <td>2</td>\n",
       "      <td>0</td>\n",
       "      <td>2</td>\n",
       "      <td>1</td>\n",
       "    </tr>\n",
       "  </tbody>\n",
       "</table>\n",
       "</div>"
      ],
      "text/plain": [
       "   age  sex  cp  trestbps  chol  fbs  restecg  thalach  exang  oldpeak  slope  \\\n",
       "0   63    1   3       145   233    1        0      150      0      2.3      0   \n",
       "1   37    1   2       130   250    0        1      187      0      3.5      0   \n",
       "2   41    0   1       130   204    0        0      172      0      1.4      2   \n",
       "3   56    1   1       120   236    0        1      178      0      0.8      2   \n",
       "4   57    0   0       120   354    0        1      163      1      0.6      2   \n",
       "\n",
       "   ca  thal  target  \n",
       "0   0     1       1  \n",
       "1   0     2       1  \n",
       "2   0     2       1  \n",
       "3   0     2       1  \n",
       "4   0     2       1  "
      ]
     },
     "execution_count": 18,
     "metadata": {},
     "output_type": "execute_result"
    }
   ],
   "source": [
    "from sklearn.decomposition import PCA\n",
    "from sklearn import metrics\n",
    "from sklearn.neural_network import MLPClassifier\n",
    "from sklearn.model_selection import train_test_split\n",
    "\n",
    "from sklearn.metrics import accuracy_score\n",
    "from sklearn.metrics import precision_score\n",
    "from sklearn.metrics import recall_score\n",
    "\n",
    "import matplotlib.pyplot as plt\n",
    "import pandas as pd\n",
    "import numpy as np\n",
    " \n",
    "#Load Data\n",
    "\n",
    "url = \"lib/heart/heart.csv\"\n",
    "url = 'https://drive.google.com/file/d/1E7aR22Wvi3_5am44ARFAvMTWmXtsFjO2/view?usp=sharing'\n",
    "path = 'https://drive.google.com/uc?export=download&id='+url.split('/')[-2]\n",
    "# loading dataset into Pandas DataFrame\n",
    "df = pd.read_csv(path)\n",
    "\n",
    "df.head()"
   ]
  },
  {
   "cell_type": "code",
   "execution_count": 19,
   "metadata": {},
   "outputs": [],
   "source": [
    "# obter apenas os valores \n",
    "features = df.columns[:-1] ## Retirada do Resultado                     \n",
    "x = df.loc[:, features].values\n",
    "y = df.loc[:,'target'].values"
   ]
  },
  {
   "cell_type": "code",
   "execution_count": 21,
   "metadata": {},
   "outputs": [],
   "source": [
    "## Dividindo o dataset\n",
    "train_features, test_features, train_targets, test_targets = train_test_split(\n",
    "    x                       ## Array de Features\n",
    "    , y                     ## Array de Targets\n",
    "    , test_size = 0.2       ## Percentual do Conjunto de Testes\n",
    "    , random_state = 123    ## Estado de Random - Serve para manter os valores \n",
    "    , stratify = y)         ## Manter proporção de valores da saída do treino similar a saída dos testes"
   ]
  },
  {
   "cell_type": "code",
   "execution_count": 22,
   "metadata": {},
   "outputs": [],
   "source": [
    "#   Accuracy tells you how many times the ML model was correct overall. \n",
    "#   Precision is how good the model is at predicting a specific category. \n",
    "#   Recall tells you how many times the model was able to detect a specific category."
   ]
  },
  {
   "cell_type": "code",
   "execution_count": 98,
   "metadata": {},
   "outputs": [],
   "source": [
    "def buildMPLPerceptron(train_features, test_features, train_targets, test_targets\n",
    ", num_neurons = 2, activation_function = 'relu', optimization_function = 'sgd'\n",
    ", learning = 'invscaling', alp = 0.0001, show_text = False, iter = 40):\n",
    "\n",
    "    global classifier\n",
    "    classifier = MLPClassifier(\n",
    "        hidden_layer_sizes = num_neurons\n",
    "        , max_iter = iter\n",
    "        , activation = activation_function\n",
    "        , solver = optimization_function\n",
    "        , verbose = show_text\n",
    "        , random_state= 457\n",
    "        , learning_rate = learning\n",
    "        , learning_rate_init = alp\n",
    "        )\n",
    "        \n",
    "    classifier.fit(train_features, train_targets)\n",
    "    predictions = classifier.predict(test_features)\n",
    "    \n",
    "    accuracy = accuracy_score(test_targets, predictions)\n",
    "    precision = precision_score(test_targets, predictions)\n",
    "    recall = recall_score(test_targets, predictions)\n",
    "\n",
    "    return np.round(accuracy,4), np.round(precision,4), np.round(recall,4)"
   ]
  },
  {
   "cell_type": "code",
   "execution_count": 103,
   "metadata": {},
   "outputs": [
    {
     "name": "stdout",
     "output_type": "stream",
     "text": [
      "Accuracy: 65.57% \n",
      "Precision: 64.29% \n",
      "Recall: 0.8182\n"
     ]
    }
   ],
   "source": [
    "score = buildMPLPerceptron(train_features, test_features, train_targets, test_targets\n",
    ", show_text = False)\n",
    "print(f'Accuracy: {score[0]*100}% \\nPrecision: {score[1]*100}% \\nRecall: {score[2]}')"
   ]
  },
  {
   "cell_type": "code",
   "execution_count": 104,
   "metadata": {},
   "outputs": [
    {
     "data": {
      "image/png": "[encoded data removed]",
      "text/plain": [
       "<Figure size 432x288 with 1 Axes>"
      ]
     },
     "metadata": {
      "needs_background": "light"
     },
     "output_type": "display_data"
    }
   ],
   "source": [
    "### Curva do resultado da função de perda\n",
    "\n",
    "model = classifier.fit(train_features, train_targets)\n",
    "\n",
    "plt.plot(range(1, model.n_iter_ + 1), model.loss_curve_)\n",
    "plt.title('Loss Curve')\n",
    "plt.xlabel('Number of epochs')\n",
    "plt.ylabel('Loss')\n",
    "plt.show()"
   ]
  },
  {
   "cell_type": "code",
   "execution_count": 25,
   "metadata": {},
   "outputs": [],
   "source": [
    "## Variando o número de neurônios\n",
    "\n",
    "scores_dict = dict()\n",
    "for i in range(1 , 15):\n",
    "    score = buildMPLPerceptron(train_features, test_features, train_targets, test_targets, num_neurons = i)\n",
    "    scores_dict[i] = score"
   ]
  },
  {
   "cell_type": "code",
   "execution_count": 26,
   "metadata": {},
   "outputs": [
    {
     "data": {
      "text/plain": [
       "{1: (0.541, 0.541, 1.0),\n",
       " 2: (0.541, 0.541, 1.0),\n",
       " 3: (0.459, 0.0, 0.0),\n",
       " 4: (0.459, 0.0, 0.0),\n",
       " 5: (0.5574, 0.55, 1.0),\n",
       " 6: (0.541, 0.541, 1.0),\n",
       " 7: (0.6393, 0.6774, 0.6364),\n",
       " 8: (0.541, 0.541, 1.0),\n",
       " 9: (0.541, 0.541, 1.0),\n",
       " 10: (0.541, 0.541, 1.0),\n",
       " 11: (0.4754, 0.5185, 0.4242),\n",
       " 12: (0.623, 0.6471, 0.6667),\n",
       " 13: (0.6721, 0.8095, 0.5152),\n",
       " 14: (0.541, 0.551, 0.8182)}"
      ]
     },
     "execution_count": 26,
     "metadata": {},
     "output_type": "execute_result"
    }
   ],
   "source": [
    "scores_dict"
   ]
  },
  {
   "cell_type": "code",
   "execution_count": 38,
   "metadata": {},
   "outputs": [
    {
     "name": "stdout",
     "output_type": "stream",
     "text": [
      "\n",
      "    Melhor resultado com 13 neurônios. \n",
      "    Accuracy: 67.21%\n",
      "    Precision: 80.95%\n",
      "    Recall: 0.5152\n",
      "\n"
     ]
    }
   ],
   "source": [
    "max_idx = max(scores_dict, key= lambda x: scores_dict[x][0])\n",
    "print(f\"\"\"\n",
    "    Melhor resultado com {max_idx} neurônios\n",
    "    Accuracy: {round(scores_dict[max_idx][0]*100 , 2)}%\n",
    "    Precision: {round(scores_dict[max_idx][1]*100 , 2)}%\n",
    "    Recall: {scores_dict[max_idx][2]}\n",
    "\"\"\")"
   ]
  },
  {
   "cell_type": "code",
   "execution_count": 71,
   "metadata": {},
   "outputs": [
    {
     "data": {
      "image/png": "[encoded data removed]",
      "text/plain": [
       "<Figure size 432x288 with 1 Axes>"
      ]
     },
     "metadata": {
      "needs_background": "light"
     },
     "output_type": "display_data"
    }
   ],
   "source": [
    "### Curva do resultado da função de perda\n",
    "\n",
    "buildMPLPerceptron(train_features, test_features, train_targets, test_targets, num_neurons = 13)\n",
    "\n",
    "model = classifier.fit(train_features, train_targets)\n",
    "\n",
    "plt.plot(range(1, model.n_iter_ + 1), model.loss_curve_)\n",
    "plt.title('Loss Curve')\n",
    "plt.xlabel('Number of epochs')\n",
    "plt.ylabel('Loss')\n",
    "plt.show()"
   ]
  },
  {
   "cell_type": "code",
   "execution_count": 74,
   "metadata": {},
   "outputs": [],
   "source": [
    "# activation{'identity’, ‘logistic’, ‘tanh’, ‘relu’}, default=’relu’\n",
    "## Testar diferentes Funções de Ativação\n",
    "activation = ['identity', 'logistic', 'tanh', 'relu']\n",
    "scores_dict = dict()\n",
    "for act in activation:\n",
    "    score = buildMPLPerceptron(train_features, test_features, train_targets, test_targets, activation_function = act)\n",
    "    scores_dict[act] = score\n"
   ]
  },
  {
   "cell_type": "code",
   "execution_count": 75,
   "metadata": {},
   "outputs": [
    {
     "data": {
      "text/plain": [
       "{'identity': (0.4262, 0.4792, 0.697),\n",
       " 'logistic': (0.541, 0.541, 1.0),\n",
       " 'tanh': (0.459, 0.0, 0.0),\n",
       " 'relu': (0.541, 0.541, 1.0)}"
      ]
     },
     "execution_count": 75,
     "metadata": {},
     "output_type": "execute_result"
    }
   ],
   "source": [
    "scores_dict"
   ]
  },
  {
   "cell_type": "code",
   "execution_count": 76,
   "metadata": {},
   "outputs": [
    {
     "name": "stdout",
     "output_type": "stream",
     "text": [
      "\n",
      "    Melhor resultado com função de ativação logistic\n",
      "    Accuracy: 54.1%\n",
      "    Precision: 54.1%\n",
      "    Recall: 1.0\n",
      "\n"
     ]
    }
   ],
   "source": [
    "max_idx = max(scores_dict, key= lambda x: scores_dict[x][0])\n",
    "print(f\"\"\"\n",
    "    Melhor resultado com função de ativação {max_idx}\n",
    "    Accuracy: {round(scores_dict[max_idx][0]*100 , 2)}%\n",
    "    Precision: {round(scores_dict[max_idx][1]*100 , 2)}%\n",
    "    Recall: {scores_dict[max_idx][2]}\n",
    "\"\"\")"
   ]
  },
  {
   "cell_type": "code",
   "execution_count": 78,
   "metadata": {},
   "outputs": [],
   "source": [
    "## Variando o alpha\n",
    "alpha = [1, 0.5, 0.1, 0.05, 0.01, 0.005, 0.001, 0.0005, 0.0001]\n",
    "scores_dict = dict()\n",
    "for a in alpha:\n",
    "    score = buildMPLPerceptron(train_features, test_features, train_targets, test_targets, alp = a)\n",
    "    scores_dict[a] = score"
   ]
  },
  {
   "cell_type": "code",
   "execution_count": 101,
   "metadata": {},
   "outputs": [
    {
     "data": {
      "text/plain": [
       "{1: (0.541, 0.541, 1.0),\n",
       " 0.5: (0.541, 0.541, 1.0),\n",
       " 0.1: (0.541, 0.541, 1.0),\n",
       " 0.05: (0.541, 0.541, 1.0),\n",
       " 0.01: (0.541, 0.541, 1.0),\n",
       " 0.005: (0.541, 0.541, 1.0),\n",
       " 0.001: (0.541, 0.541, 1.0),\n",
       " 0.0005: (0.541, 0.541, 1.0),\n",
       " 0.0001: (0.6557, 0.6429, 0.8182)}"
      ]
     },
     "execution_count": 101,
     "metadata": {},
     "output_type": "execute_result"
    }
   ],
   "source": [
    "scores_dict"
   ]
  },
  {
   "cell_type": "code",
   "execution_count": 80,
   "metadata": {},
   "outputs": [
    {
     "name": "stdout",
     "output_type": "stream",
     "text": [
      "\n",
      "    Melhor resultado com alpha 0.0001\n",
      "    Accuracy: 65.57%\n",
      "    Precision: 64.29%\n",
      "    Recall: 0.8182\n",
      "\n"
     ]
    }
   ],
   "source": [
    "max_idx = max(scores_dict, key= lambda x: scores_dict[x][0])\n",
    "print(f\"\"\"\n",
    "    Melhor resultado com alpha {max_idx}\n",
    "    Accuracy: {round(scores_dict[max_idx][0]*100 , 2)}%\n",
    "    Precision: {round(scores_dict[max_idx][1]*100 , 2)}%\n",
    "    Recall: {scores_dict[max_idx][2]}\n",
    "\"\"\")"
   ]
  },
  {
   "cell_type": "code",
   "execution_count": 100,
   "metadata": {},
   "outputs": [
    {
     "data": {
      "image/png": "[encoded data removed]",
      "text/plain": [
       "<Figure size 432x288 with 1 Axes>"
      ]
     },
     "metadata": {
      "needs_background": "light"
     },
     "output_type": "display_data"
    }
   ],
   "source": [
    "### Curva do resultado da função de perda\n",
    "# The loss function is the function that computes the distance between the current output \n",
    "# of the algorithm and the expected output\n",
    "\n",
    "buildMPLPerceptron(train_features, test_features, train_targets, test_targets, alp = 0.0001, num_neurons=13, iter = 500)\n",
    "\n",
    "model = classifier.fit(train_features, train_targets)\n",
    "\n",
    "plt.plot(range(1, model.n_iter_ + 1), model.loss_curve_)\n",
    "plt.title('Loss Curve')\n",
    "plt.xlabel('Number of epochs')\n",
    "plt.ylabel('Loss')\n",
    "plt.show()"
   ]
  },
  {
   "cell_type": "code",
   "execution_count": null,
   "metadata": {},
   "outputs": [],
   "source": []
  }
 ],
 "metadata": {
  "interpreter": {
   "hash": "f96714dcabff3110d3d51c5a6b1c25a65aaf8d65f7a9f2e166a2d737653d41ae"
  },
  "kernelspec": {
   "display_name": "Python 3.9.0 64-bit",
   "language": "python",
   "name": "python3"
  },
  "language_info": {
   "codemirror_mode": {
    "name": "ipython",
    "version": 3
   },
   "file_extension": ".py",
   "mimetype": "text/x-python",
   "name": "python",
   "nbconvert_exporter": "python",
   "pygments_lexer": "ipython3",
   "version": "3.8.5"
  },
  "orig_nbformat": 4
 },
 "nbformat": 4,
 "nbformat_minor": 2
}
