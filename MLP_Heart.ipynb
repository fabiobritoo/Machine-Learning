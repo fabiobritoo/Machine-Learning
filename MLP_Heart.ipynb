{
 "cells": [
  {
   "cell_type": "markdown",
   "metadata": {},
   "source": [
    "#### Implementação do K-Means"
   ]
  },
  {
   "cell_type": "code",
   "execution_count": 33,
   "metadata": {},
   "outputs": [],
   "source": [
    "import warnings\n",
    "warnings.filterwarnings('ignore')"
   ]
  },
  {
   "cell_type": "code",
   "execution_count": 34,
   "metadata": {},
   "outputs": [
    {
     "data": {
      "text/html": [
       "<div>\n",
       "<style scoped>\n",
       "    .dataframe tbody tr th:only-of-type {\n",
       "        vertical-align: middle;\n",
       "    }\n",
       "\n",
       "    .dataframe tbody tr th {\n",
       "        vertical-align: top;\n",
       "    }\n",
       "\n",
       "    .dataframe thead th {\n",
       "        text-align: right;\n",
       "    }\n",
       "</style>\n",
       "<table border=\"1\" class=\"dataframe\">\n",
       "  <thead>\n",
       "    <tr style=\"text-align: right;\">\n",
       "      <th></th>\n",
       "      <th>age</th>\n",
       "      <th>sex</th>\n",
       "      <th>cp</th>\n",
       "      <th>trestbps</th>\n",
       "      <th>chol</th>\n",
       "      <th>fbs</th>\n",
       "      <th>restecg</th>\n",
       "      <th>thalach</th>\n",
       "      <th>exang</th>\n",
       "      <th>oldpeak</th>\n",
       "      <th>slope</th>\n",
       "      <th>ca</th>\n",
       "      <th>thal</th>\n",
       "      <th>target</th>\n",
       "    </tr>\n",
       "  </thead>\n",
       "  <tbody>\n",
       "    <tr>\n",
       "      <th>0</th>\n",
       "      <td>63</td>\n",
       "      <td>1</td>\n",
       "      <td>3</td>\n",
       "      <td>145</td>\n",
       "      <td>233</td>\n",
       "      <td>1</td>\n",
       "      <td>0</td>\n",
       "      <td>150</td>\n",
       "      <td>0</td>\n",
       "      <td>2.3</td>\n",
       "      <td>0</td>\n",
       "      <td>0</td>\n",
       "      <td>1</td>\n",
       "      <td>1</td>\n",
       "    </tr>\n",
       "    <tr>\n",
       "      <th>1</th>\n",
       "      <td>37</td>\n",
       "      <td>1</td>\n",
       "      <td>2</td>\n",
       "      <td>130</td>\n",
       "      <td>250</td>\n",
       "      <td>0</td>\n",
       "      <td>1</td>\n",
       "      <td>187</td>\n",
       "      <td>0</td>\n",
       "      <td>3.5</td>\n",
       "      <td>0</td>\n",
       "      <td>0</td>\n",
       "      <td>2</td>\n",
       "      <td>1</td>\n",
       "    </tr>\n",
       "    <tr>\n",
       "      <th>2</th>\n",
       "      <td>41</td>\n",
       "      <td>0</td>\n",
       "      <td>1</td>\n",
       "      <td>130</td>\n",
       "      <td>204</td>\n",
       "      <td>0</td>\n",
       "      <td>0</td>\n",
       "      <td>172</td>\n",
       "      <td>0</td>\n",
       "      <td>1.4</td>\n",
       "      <td>2</td>\n",
       "      <td>0</td>\n",
       "      <td>2</td>\n",
       "      <td>1</td>\n",
       "    </tr>\n",
       "    <tr>\n",
       "      <th>3</th>\n",
       "      <td>56</td>\n",
       "      <td>1</td>\n",
       "      <td>1</td>\n",
       "      <td>120</td>\n",
       "      <td>236</td>\n",
       "      <td>0</td>\n",
       "      <td>1</td>\n",
       "      <td>178</td>\n",
       "      <td>0</td>\n",
       "      <td>0.8</td>\n",
       "      <td>2</td>\n",
       "      <td>0</td>\n",
       "      <td>2</td>\n",
       "      <td>1</td>\n",
       "    </tr>\n",
       "    <tr>\n",
       "      <th>4</th>\n",
       "      <td>57</td>\n",
       "      <td>0</td>\n",
       "      <td>0</td>\n",
       "      <td>120</td>\n",
       "      <td>354</td>\n",
       "      <td>0</td>\n",
       "      <td>1</td>\n",
       "      <td>163</td>\n",
       "      <td>1</td>\n",
       "      <td>0.6</td>\n",
       "      <td>2</td>\n",
       "      <td>0</td>\n",
       "      <td>2</td>\n",
       "      <td>1</td>\n",
       "    </tr>\n",
       "  </tbody>\n",
       "</table>\n",
       "</div>"
      ],
      "text/plain": [
       "   age  sex  cp  trestbps  chol  fbs  restecg  thalach  exang  oldpeak  slope  \\\n",
       "0   63    1   3       145   233    1        0      150      0      2.3      0   \n",
       "1   37    1   2       130   250    0        1      187      0      3.5      0   \n",
       "2   41    0   1       130   204    0        0      172      0      1.4      2   \n",
       "3   56    1   1       120   236    0        1      178      0      0.8      2   \n",
       "4   57    0   0       120   354    0        1      163      1      0.6      2   \n",
       "\n",
       "   ca  thal  target  \n",
       "0   0     1       1  \n",
       "1   0     2       1  \n",
       "2   0     2       1  \n",
       "3   0     2       1  \n",
       "4   0     2       1  "
      ]
     },
     "execution_count": 34,
     "metadata": {},
     "output_type": "execute_result"
    }
   ],
   "source": [
    "from sklearn.decomposition import PCA\n",
    "from sklearn import metrics\n",
    "from sklearn.neural_network import MLPClassifier\n",
    "from sklearn.model_selection import train_test_split\n",
    "\n",
    "from sklearn.metrics import accuracy_score\n",
    "from sklearn.metrics import precision_score\n",
    "from sklearn.metrics import recall_score\n",
    "\n",
    "import matplotlib.pyplot as plt\n",
    "import pandas as pd\n",
    "import numpy as np\n",
    " \n",
    "#Load Data\n",
    "\n",
    "### link dataset = https://archive.ics.uci.edu/ml/datasets/Heart+Disease\n",
    "\n",
    "url = \"lib/heart/heart.csv\"\n",
    "url = 'https://drive.google.com/file/d/1E7aR22Wvi3_5am44ARFAvMTWmXtsFjO2/view?usp=sharing'\n",
    "path = 'https://drive.google.com/uc?export=download&id='+url.split('/')[-2]\n",
    "# loading dataset into Pandas DataFrame\n",
    "df = pd.read_csv(path)\n",
    "\n",
    "df.head()"
   ]
  },
  {
   "cell_type": "code",
   "execution_count": 35,
   "metadata": {},
   "outputs": [],
   "source": [
    "# obter apenas os valores \n",
    "features = df.columns[:-1] ## Retirada do Resultado                     \n",
    "x = df.loc[:, features].values\n",
    "y = df.iloc[:,-1].values"
   ]
  },
  {
   "cell_type": "code",
   "execution_count": 36,
   "metadata": {},
   "outputs": [],
   "source": [
    "## Dividindo o dataset\n",
    "train_features, test_features, train_targets, test_targets = train_test_split(\n",
    "    x                       ## Array de Features\n",
    "    , y                     ## Array de Targets\n",
    "    , test_size = 0.2       ## Percentual do Conjunto de Testes\n",
    "    , random_state = 123    ## Estado de Random - Serve para manter os valores \n",
    "    , stratify = y)         ## Manter proporção de valores da saída do treino similar a saída dos testes"
   ]
  },
  {
   "cell_type": "code",
   "execution_count": 37,
   "metadata": {},
   "outputs": [],
   "source": [
    "#   Accuracy tells you how many times the ML model was correct overall. \n",
    "#   Precision is how good the model is at predicting a specific category. \n",
    "#   Recall tells you how many times the model was able to detect a specific category."
   ]
  },
  {
   "cell_type": "code",
   "execution_count": 38,
   "metadata": {},
   "outputs": [],
   "source": [
    "def buildMPLPerceptron(train_features, test_features, train_targets, test_targets\n",
    ", layer_size = 100, activation_function = 'relu', optimization_function = 'sgd'\n",
    ", learning = 'invscaling', alp = 0.0001, show_text = False, iter = 40):\n",
    "\n",
    "    global classifier\n",
    "    classifier = MLPClassifier(\n",
    "        hidden_layer_sizes = layer_size\n",
    "        , max_iter = iter\n",
    "        , activation = activation_function\n",
    "        , solver = optimization_function\n",
    "        , verbose = show_text\n",
    "        , random_state= 457\n",
    "        , learning_rate = learning\n",
    "        , learning_rate_init = alp\n",
    "        )\n",
    "        \n",
    "    classifier.fit(train_features, train_targets)\n",
    "    predictions = classifier.predict(test_features)\n",
    "    \n",
    "    accuracy = accuracy_score(test_targets, predictions)\n",
    "    precision = precision_score(test_targets, predictions)\n",
    "    recall = recall_score(test_targets, predictions)\n",
    "\n",
    "    return np.round(accuracy,4), np.round(precision,4), np.round(recall,4)"
   ]
  },
  {
   "cell_type": "code",
   "execution_count": 39,
   "metadata": {},
   "outputs": [
    {
     "name": "stdout",
     "output_type": "stream",
     "text": [
      "Iteration 1, loss = 18.50382683\n",
      "Iteration 2, loss = 1.75223310\n",
      "Iteration 3, loss = 11.59165047\n",
      "Iteration 4, loss = 16.31330978\n",
      "Iteration 5, loss = 16.38348924\n",
      "Iteration 6, loss = 16.38348924\n",
      "Iteration 7, loss = 16.38348924\n",
      "Iteration 8, loss = 16.38348924\n",
      "Iteration 9, loss = 16.38348924\n",
      "Iteration 10, loss = 16.38348924\n",
      "Iteration 11, loss = 16.38348924\n",
      "Iteration 12, loss = 16.38348924\n",
      "Iteration 13, loss = 16.38348924\n",
      "Training loss did not improve more than tol=0.000100 for 10 consecutive epochs. Stopping.\n",
      "Accuracy: 54.1% \n",
      "Precision: 54.1% \n",
      "Recall: 1.0\n"
     ]
    }
   ],
   "source": [
    "score = buildMPLPerceptron(train_features, test_features, train_targets, test_targets\n",
    ", show_text = True)\n",
    "print(f'Accuracy: {score[0]*100}% \\nPrecision: {score[1]*100}% \\nRecall: {score[2]}')"
   ]
  },
  {
   "cell_type": "code",
   "execution_count": 40,
   "metadata": {},
   "outputs": [
    {
     "name": "stdout",
     "output_type": "stream",
     "text": [
      "Iteration 1, loss = 18.50382683\n",
      "Iteration 2, loss = 1.75223310\n",
      "Iteration 3, loss = 11.59165047\n",
      "Iteration 4, loss = 16.31330978\n",
      "Iteration 5, loss = 16.38348924\n",
      "Iteration 6, loss = 16.38348924\n",
      "Iteration 7, loss = 16.38348924\n",
      "Iteration 8, loss = 16.38348924\n",
      "Iteration 9, loss = 16.38348924\n",
      "Iteration 10, loss = 16.38348924\n",
      "Iteration 11, loss = 16.38348924\n",
      "Iteration 12, loss = 16.38348924\n",
      "Iteration 13, loss = 16.38348924\n",
      "Training loss did not improve more than tol=0.000100 for 10 consecutive epochs. Stopping.\n"
     ]
    },
    {
     "data": {
      "image/png": "[encoded data removed]",
      "text/plain": [
       "<Figure size 432x288 with 1 Axes>"
      ]
     },
     "metadata": {
      "needs_background": "light"
     },
     "output_type": "display_data"
    }
   ],
   "source": [
    "### Curva do resultado da função de perda\n",
    "\n",
    "model = classifier.fit(train_features, train_targets)\n",
    "\n",
    "plt.plot(range(1, model.n_iter_ + 1), model.loss_curve_)\n",
    "plt.title('Loss Curve')\n",
    "plt.xlabel('Number of epochs')\n",
    "plt.ylabel('Loss')\n",
    "plt.show()"
   ]
  },
  {
   "cell_type": "code",
   "execution_count": 41,
   "metadata": {},
   "outputs": [],
   "source": [
    "## Variando o tamanho das camadas\n",
    "\n",
    "scores_dict = dict()\n",
    "for i in range(80 , 120):\n",
    "    score = buildMPLPerceptron(train_features, test_features, train_targets, test_targets, layer_size = i)\n",
    "    scores_dict[i] = score"
   ]
  },
  {
   "cell_type": "code",
   "execution_count": 42,
   "metadata": {},
   "outputs": [
    {
     "data": {
      "text/plain": [
       "{80: (0.459, 0.0, 0.0),\n",
       " 81: (0.4426, 0.4828, 0.4242),\n",
       " 82: (0.5902, 0.6176, 0.6364),\n",
       " 83: (0.541, 0.541, 1.0),\n",
       " 84: (0.459, 0.0, 0.0),\n",
       " 85: (0.541, 0.541, 1.0),\n",
       " 86: (0.459, 0.0, 0.0),\n",
       " 87: (0.459, 0.0, 0.0),\n",
       " 88: (0.459, 0.0, 0.0),\n",
       " 89: (0.377, 0.4242, 0.4242),\n",
       " 90: (0.459, 0.0, 0.0),\n",
       " 91: (0.541, 0.541, 1.0),\n",
       " 92: (0.459, 0.0, 0.0),\n",
       " 93: (0.541, 0.541, 1.0),\n",
       " 94: (0.5082, 0.5455, 0.5455),\n",
       " 95: (0.541, 0.541, 1.0),\n",
       " 96: (0.541, 0.541, 1.0),\n",
       " 97: (0.541, 0.541, 1.0),\n",
       " 98: (0.541, 0.541, 1.0),\n",
       " 99: (0.541, 0.541, 1.0),\n",
       " 100: (0.541, 0.541, 1.0),\n",
       " 101: (0.459, 0.0, 0.0),\n",
       " 102: (0.459, 0.0, 0.0),\n",
       " 103: (0.459, 0.0, 0.0),\n",
       " 104: (0.459, 0.0, 0.0),\n",
       " 105: (0.459, 0.0, 0.0),\n",
       " 106: (0.459, 0.0, 0.0),\n",
       " 107: (0.541, 0.541, 1.0),\n",
       " 108: (0.459, 0.0, 0.0),\n",
       " 109: (0.459, 0.0, 0.0),\n",
       " 110: (0.4754, 0.5122, 0.6364),\n",
       " 111: (0.377, 0.4359, 0.5152),\n",
       " 112: (0.7377, 0.7297, 0.8182),\n",
       " 113: (0.6885, 0.675, 0.8182),\n",
       " 114: (0.459, 0.0, 0.0),\n",
       " 115: (0.541, 0.541, 1.0),\n",
       " 116: (0.623, 0.619, 0.7879),\n",
       " 117: (0.5574, 0.5682, 0.7576),\n",
       " 118: (0.541, 0.5926, 0.4848),\n",
       " 119: (0.6066, 0.6154, 0.7273)}"
      ]
     },
     "execution_count": 42,
     "metadata": {},
     "output_type": "execute_result"
    }
   ],
   "source": [
    "scores_dict"
   ]
  },
  {
   "cell_type": "code",
   "execution_count": 43,
   "metadata": {},
   "outputs": [
    {
     "name": "stdout",
     "output_type": "stream",
     "text": [
      "\n",
      "    Melhor resultado com 112 de tamanho\n",
      "    Accuracy: 73.77%\n",
      "    Precision: 72.97%\n",
      "    Recall: 0.8182\n",
      "\n"
     ]
    }
   ],
   "source": [
    "max_idx = max(scores_dict, key= lambda x: scores_dict[x][0])\n",
    "print(f\"\"\"\n",
    "    Melhor resultado com {max_idx} de tamanho\n",
    "    Accuracy: {round(scores_dict[max_idx][0]*100 , 2)}%\n",
    "    Precision: {round(scores_dict[max_idx][1]*100 , 2)}%\n",
    "    Recall: {scores_dict[max_idx][2]}\n",
    "\"\"\")"
   ]
  },
  {
   "cell_type": "code",
   "execution_count": 44,
   "metadata": {},
   "outputs": [
    {
     "data": {
      "image/png": "[encoded data removed]",
      "text/plain": [
       "<Figure size 432x288 with 1 Axes>"
      ]
     },
     "metadata": {
      "needs_background": "light"
     },
     "output_type": "display_data"
    }
   ],
   "source": [
    "### Curva do resultado da função de perda\n",
    "\n",
    "buildMPLPerceptron(train_features, test_features, train_targets, test_targets, layer_size = max_idx)\n",
    "\n",
    "model = classifier.fit(train_features, train_targets)\n",
    "\n",
    "plt.plot(range(1, model.n_iter_ + 1), model.loss_curve_)\n",
    "plt.title('Loss Curve')\n",
    "plt.xlabel('Number of epochs')\n",
    "plt.ylabel('Loss')\n",
    "plt.show()"
   ]
  },
  {
   "cell_type": "code",
   "execution_count": 45,
   "metadata": {},
   "outputs": [],
   "source": [
    "# activation{'identity’, ‘logistic’, ‘tanh’, ‘relu’}, default=’relu’\n",
    "## Testar diferentes Funções de Ativação\n",
    "activation = ['identity', 'logistic', 'tanh', 'relu']\n",
    "scores_dict = dict()\n",
    "for act in activation:\n",
    "    score = buildMPLPerceptron(train_features, test_features, train_targets, test_targets, activation_function = act)\n",
    "    scores_dict[act] = score\n"
   ]
  },
  {
   "cell_type": "code",
   "execution_count": 46,
   "metadata": {},
   "outputs": [
    {
     "data": {
      "text/plain": [
       "{'identity': (0.541, 0.541, 1.0),\n",
       " 'logistic': (0.459, 0.0, 0.0),\n",
       " 'tanh': (0.459, 0.0, 0.0),\n",
       " 'relu': (0.541, 0.541, 1.0)}"
      ]
     },
     "execution_count": 46,
     "metadata": {},
     "output_type": "execute_result"
    }
   ],
   "source": [
    "scores_dict"
   ]
  },
  {
   "cell_type": "code",
   "execution_count": 47,
   "metadata": {},
   "outputs": [
    {
     "name": "stdout",
     "output_type": "stream",
     "text": [
      "\n",
      "    Melhor resultado com função de ativação identity\n",
      "    Accuracy: 54.1%\n",
      "    Precision: 54.1%\n",
      "    Recall: 1.0\n",
      "\n"
     ]
    }
   ],
   "source": [
    "max_idx = max(scores_dict, key= lambda x: scores_dict[x][0])\n",
    "print(f\"\"\"\n",
    "    Melhor resultado com função de ativação {max_idx}\n",
    "    Accuracy: {round(scores_dict[max_idx][0]*100 , 2)}%\n",
    "    Precision: {round(scores_dict[max_idx][1]*100 , 2)}%\n",
    "    Recall: {scores_dict[max_idx][2]}\n",
    "\"\"\")"
   ]
  },
  {
   "cell_type": "code",
   "execution_count": 48,
   "metadata": {},
   "outputs": [],
   "source": [
    "## Variando o alpha\n",
    "alpha = [1, 0.5, 0.1, 0.05, 0.01, 0.005, 0.001, 0.0005, 0.0001]\n",
    "scores_dict = dict()\n",
    "for a in alpha:\n",
    "    score = buildMPLPerceptron(train_features, test_features, train_targets, test_targets, alp = a)\n",
    "    scores_dict[a] = score"
   ]
  },
  {
   "cell_type": "code",
   "execution_count": 49,
   "metadata": {},
   "outputs": [
    {
     "data": {
      "text/plain": [
       "{1: (0.541, 0.541, 1.0),\n",
       " 0.5: (0.541, 0.541, 1.0),\n",
       " 0.1: (0.541, 0.541, 1.0),\n",
       " 0.05: (0.541, 0.541, 1.0),\n",
       " 0.01: (0.6557, 0.6304, 0.8788),\n",
       " 0.005: (0.6721, 0.6585, 0.8182),\n",
       " 0.001: (0.7049, 0.6923, 0.8182),\n",
       " 0.0005: (0.6885, 0.675, 0.8182),\n",
       " 0.0001: (0.541, 0.541, 1.0)}"
      ]
     },
     "execution_count": 49,
     "metadata": {},
     "output_type": "execute_result"
    }
   ],
   "source": [
    "scores_dict"
   ]
  },
  {
   "cell_type": "code",
   "execution_count": 50,
   "metadata": {},
   "outputs": [
    {
     "name": "stdout",
     "output_type": "stream",
     "text": [
      "\n",
      "    Melhor resultado com alpha 0.001\n",
      "    Accuracy: 70.49%\n",
      "    Precision: 69.23%\n",
      "    Recall: 0.8182\n",
      "\n"
     ]
    }
   ],
   "source": [
    "max_idx = max(scores_dict, key= lambda x: scores_dict[x][0])\n",
    "print(f\"\"\"\n",
    "    Melhor resultado com alpha {max_idx}\n",
    "    Accuracy: {round(scores_dict[max_idx][0]*100 , 2)}%\n",
    "    Precision: {round(scores_dict[max_idx][1]*100 , 2)}%\n",
    "    Recall: {scores_dict[max_idx][2]}\n",
    "\"\"\")"
   ]
  },
  {
   "cell_type": "code",
   "execution_count": 51,
   "metadata": {},
   "outputs": [
    {
     "data": {
      "image/png": "[encoded data removed]",
      "text/plain": [
       "<Figure size 432x288 with 1 Axes>"
      ]
     },
     "metadata": {
      "needs_background": "light"
     },
     "output_type": "display_data"
    }
   ],
   "source": [
    "### Curva do resultado da função de perda\n",
    "# The loss function is the function that computes the distance between the current output \n",
    "# of the algorithm and the expected output\n",
    "\n",
    "buildMPLPerceptron(train_features, test_features, train_targets, test_targets, alp = max_idx)\n",
    "\n",
    "model = classifier.fit(train_features, train_targets)\n",
    "\n",
    "plt.plot(range(1, model.n_iter_ + 1), model.loss_curve_)\n",
    "plt.title('Loss Curve')\n",
    "plt.xlabel('Number of epochs')\n",
    "plt.ylabel('Loss')\n",
    "plt.show()"
   ]
  },
  {
   "cell_type": "code",
   "execution_count": null,
   "metadata": {},
   "outputs": [],
   "source": []
  }
 ],
 "metadata": {
  "interpreter": {
   "hash": "f96714dcabff3110d3d51c5a6b1c25a65aaf8d65f7a9f2e166a2d737653d41ae"
  },
  "kernelspec": {
   "display_name": "Python 3.9.0 64-bit",
   "language": "python",
   "name": "python3"
  },
  "language_info": {
   "codemirror_mode": {
    "name": "ipython",
    "version": 3
   },
   "file_extension": ".py",
   "mimetype": "text/x-python",
   "name": "python",
   "nbconvert_exporter": "python",
   "pygments_lexer": "ipython3",
   "version": "3.8.5"
  },
  "orig_nbformat": 4
 },
 "nbformat": 4,
 "nbformat_minor": 2
}
