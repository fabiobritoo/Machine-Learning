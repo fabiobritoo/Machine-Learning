{
 "cells": [
  {
   "cell_type": "markdown",
   "metadata": {},
   "source": [
    "#### Implementação do K-Means"
   ]
  },
  {
   "cell_type": "code",
   "execution_count": 100,
   "metadata": {},
   "outputs": [],
   "source": [
    "import warnings\n",
    "warnings.filterwarnings('ignore')"
   ]
  },
  {
   "cell_type": "code",
   "execution_count": 101,
   "metadata": {},
   "outputs": [
    {
     "data": {
      "text/html": [
       "<div>\n",
       "<style scoped>\n",
       "    .dataframe tbody tr th:only-of-type {\n",
       "        vertical-align: middle;\n",
       "    }\n",
       "\n",
       "    .dataframe tbody tr th {\n",
       "        vertical-align: top;\n",
       "    }\n",
       "\n",
       "    .dataframe thead th {\n",
       "        text-align: right;\n",
       "    }\n",
       "</style>\n",
       "<table border=\"1\" class=\"dataframe\">\n",
       "  <thead>\n",
       "    <tr style=\"text-align: right;\">\n",
       "      <th></th>\n",
       "      <th>age</th>\n",
       "      <th>sex</th>\n",
       "      <th>cp</th>\n",
       "      <th>trestbps</th>\n",
       "      <th>chol</th>\n",
       "      <th>fbs</th>\n",
       "      <th>restecg</th>\n",
       "      <th>thalach</th>\n",
       "      <th>exang</th>\n",
       "      <th>oldpeak</th>\n",
       "      <th>slope</th>\n",
       "      <th>ca</th>\n",
       "      <th>thal</th>\n",
       "      <th>target</th>\n",
       "    </tr>\n",
       "  </thead>\n",
       "  <tbody>\n",
       "    <tr>\n",
       "      <th>0</th>\n",
       "      <td>63</td>\n",
       "      <td>1</td>\n",
       "      <td>3</td>\n",
       "      <td>145</td>\n",
       "      <td>233</td>\n",
       "      <td>1</td>\n",
       "      <td>0</td>\n",
       "      <td>150</td>\n",
       "      <td>0</td>\n",
       "      <td>2.3</td>\n",
       "      <td>0</td>\n",
       "      <td>0</td>\n",
       "      <td>1</td>\n",
       "      <td>1</td>\n",
       "    </tr>\n",
       "    <tr>\n",
       "      <th>1</th>\n",
       "      <td>37</td>\n",
       "      <td>1</td>\n",
       "      <td>2</td>\n",
       "      <td>130</td>\n",
       "      <td>250</td>\n",
       "      <td>0</td>\n",
       "      <td>1</td>\n",
       "      <td>187</td>\n",
       "      <td>0</td>\n",
       "      <td>3.5</td>\n",
       "      <td>0</td>\n",
       "      <td>0</td>\n",
       "      <td>2</td>\n",
       "      <td>1</td>\n",
       "    </tr>\n",
       "    <tr>\n",
       "      <th>2</th>\n",
       "      <td>41</td>\n",
       "      <td>0</td>\n",
       "      <td>1</td>\n",
       "      <td>130</td>\n",
       "      <td>204</td>\n",
       "      <td>0</td>\n",
       "      <td>0</td>\n",
       "      <td>172</td>\n",
       "      <td>0</td>\n",
       "      <td>1.4</td>\n",
       "      <td>2</td>\n",
       "      <td>0</td>\n",
       "      <td>2</td>\n",
       "      <td>1</td>\n",
       "    </tr>\n",
       "    <tr>\n",
       "      <th>3</th>\n",
       "      <td>56</td>\n",
       "      <td>1</td>\n",
       "      <td>1</td>\n",
       "      <td>120</td>\n",
       "      <td>236</td>\n",
       "      <td>0</td>\n",
       "      <td>1</td>\n",
       "      <td>178</td>\n",
       "      <td>0</td>\n",
       "      <td>0.8</td>\n",
       "      <td>2</td>\n",
       "      <td>0</td>\n",
       "      <td>2</td>\n",
       "      <td>1</td>\n",
       "    </tr>\n",
       "    <tr>\n",
       "      <th>4</th>\n",
       "      <td>57</td>\n",
       "      <td>0</td>\n",
       "      <td>0</td>\n",
       "      <td>120</td>\n",
       "      <td>354</td>\n",
       "      <td>0</td>\n",
       "      <td>1</td>\n",
       "      <td>163</td>\n",
       "      <td>1</td>\n",
       "      <td>0.6</td>\n",
       "      <td>2</td>\n",
       "      <td>0</td>\n",
       "      <td>2</td>\n",
       "      <td>1</td>\n",
       "    </tr>\n",
       "    <tr>\n",
       "      <th>...</th>\n",
       "      <td>...</td>\n",
       "      <td>...</td>\n",
       "      <td>...</td>\n",
       "      <td>...</td>\n",
       "      <td>...</td>\n",
       "      <td>...</td>\n",
       "      <td>...</td>\n",
       "      <td>...</td>\n",
       "      <td>...</td>\n",
       "      <td>...</td>\n",
       "      <td>...</td>\n",
       "      <td>...</td>\n",
       "      <td>...</td>\n",
       "      <td>...</td>\n",
       "    </tr>\n",
       "    <tr>\n",
       "      <th>298</th>\n",
       "      <td>57</td>\n",
       "      <td>0</td>\n",
       "      <td>0</td>\n",
       "      <td>140</td>\n",
       "      <td>241</td>\n",
       "      <td>0</td>\n",
       "      <td>1</td>\n",
       "      <td>123</td>\n",
       "      <td>1</td>\n",
       "      <td>0.2</td>\n",
       "      <td>1</td>\n",
       "      <td>0</td>\n",
       "      <td>3</td>\n",
       "      <td>0</td>\n",
       "    </tr>\n",
       "    <tr>\n",
       "      <th>299</th>\n",
       "      <td>45</td>\n",
       "      <td>1</td>\n",
       "      <td>3</td>\n",
       "      <td>110</td>\n",
       "      <td>264</td>\n",
       "      <td>0</td>\n",
       "      <td>1</td>\n",
       "      <td>132</td>\n",
       "      <td>0</td>\n",
       "      <td>1.2</td>\n",
       "      <td>1</td>\n",
       "      <td>0</td>\n",
       "      <td>3</td>\n",
       "      <td>0</td>\n",
       "    </tr>\n",
       "    <tr>\n",
       "      <th>300</th>\n",
       "      <td>68</td>\n",
       "      <td>1</td>\n",
       "      <td>0</td>\n",
       "      <td>144</td>\n",
       "      <td>193</td>\n",
       "      <td>1</td>\n",
       "      <td>1</td>\n",
       "      <td>141</td>\n",
       "      <td>0</td>\n",
       "      <td>3.4</td>\n",
       "      <td>1</td>\n",
       "      <td>2</td>\n",
       "      <td>3</td>\n",
       "      <td>0</td>\n",
       "    </tr>\n",
       "    <tr>\n",
       "      <th>301</th>\n",
       "      <td>57</td>\n",
       "      <td>1</td>\n",
       "      <td>0</td>\n",
       "      <td>130</td>\n",
       "      <td>131</td>\n",
       "      <td>0</td>\n",
       "      <td>1</td>\n",
       "      <td>115</td>\n",
       "      <td>1</td>\n",
       "      <td>1.2</td>\n",
       "      <td>1</td>\n",
       "      <td>1</td>\n",
       "      <td>3</td>\n",
       "      <td>0</td>\n",
       "    </tr>\n",
       "    <tr>\n",
       "      <th>302</th>\n",
       "      <td>57</td>\n",
       "      <td>0</td>\n",
       "      <td>1</td>\n",
       "      <td>130</td>\n",
       "      <td>236</td>\n",
       "      <td>0</td>\n",
       "      <td>0</td>\n",
       "      <td>174</td>\n",
       "      <td>0</td>\n",
       "      <td>0.0</td>\n",
       "      <td>1</td>\n",
       "      <td>1</td>\n",
       "      <td>2</td>\n",
       "      <td>0</td>\n",
       "    </tr>\n",
       "  </tbody>\n",
       "</table>\n",
       "<p>303 rows × 14 columns</p>\n",
       "</div>"
      ],
      "text/plain": [
       "     age  sex  cp  trestbps  chol  fbs  restecg  thalach  exang  oldpeak  \\\n",
       "0     63    1   3       145   233    1        0      150      0      2.3   \n",
       "1     37    1   2       130   250    0        1      187      0      3.5   \n",
       "2     41    0   1       130   204    0        0      172      0      1.4   \n",
       "3     56    1   1       120   236    0        1      178      0      0.8   \n",
       "4     57    0   0       120   354    0        1      163      1      0.6   \n",
       "..   ...  ...  ..       ...   ...  ...      ...      ...    ...      ...   \n",
       "298   57    0   0       140   241    0        1      123      1      0.2   \n",
       "299   45    1   3       110   264    0        1      132      0      1.2   \n",
       "300   68    1   0       144   193    1        1      141      0      3.4   \n",
       "301   57    1   0       130   131    0        1      115      1      1.2   \n",
       "302   57    0   1       130   236    0        0      174      0      0.0   \n",
       "\n",
       "     slope  ca  thal  target  \n",
       "0        0   0     1       1  \n",
       "1        0   0     2       1  \n",
       "2        2   0     2       1  \n",
       "3        2   0     2       1  \n",
       "4        2   0     2       1  \n",
       "..     ...  ..   ...     ...  \n",
       "298      1   0     3       0  \n",
       "299      1   0     3       0  \n",
       "300      1   2     3       0  \n",
       "301      1   1     3       0  \n",
       "302      1   1     2       0  \n",
       "\n",
       "[303 rows x 14 columns]"
      ]
     },
     "execution_count": 101,
     "metadata": {},
     "output_type": "execute_result"
    }
   ],
   "source": [
    "from sklearn.decomposition import PCA\n",
    "from sklearn import metrics\n",
    "from sklearn.neural_network import MLPClassifier\n",
    "from sklearn.model_selection import train_test_split\n",
    "\n",
    "from sklearn.metrics import accuracy_score\n",
    "from sklearn.metrics import precision_score\n",
    "from sklearn.metrics import recall_score\n",
    "\n",
    "import matplotlib.pyplot as plt\n",
    "import pandas as pd\n",
    "import numpy as np\n",
    " \n",
    "#Load Data\n",
    "\n",
    "### link dataset = https://archive.ics.uci.edu/ml/datasets/Heart+Disease\n",
    "\n",
    "url = \"lib/heart/heart.csv\"\n",
    "url = 'https://drive.google.com/file/d/1E7aR22Wvi3_5am44ARFAvMTWmXtsFjO2/view?usp=sharing'\n",
    "path = 'https://drive.google.com/uc?export=download&id='+url.split('/')[-2]\n",
    "# loading dataset into Pandas DataFrame\n",
    "df = pd.read_csv(path)\n",
    "\n",
    "df"
   ]
  },
  {
   "cell_type": "code",
   "execution_count": null,
   "metadata": {},
   "outputs": [],
   "source": []
  },
  {
   "cell_type": "code",
   "execution_count": 102,
   "metadata": {},
   "outputs": [
    {
     "data": {
      "text/plain": [
       "array([0, 1], dtype=int64)"
      ]
     },
     "execution_count": 102,
     "metadata": {},
     "output_type": "execute_result"
    }
   ],
   "source": [
    "np.unique(df.iloc[:,-1].values)"
   ]
  },
  {
   "cell_type": "code",
   "execution_count": 103,
   "metadata": {},
   "outputs": [
    {
     "name": "stdout",
     "output_type": "stream",
     "text": [
      "Base possui 13 com 1 neurônio(s) para saída. Com isso, o número de neurônios das camadas escondidas será 7\n"
     ]
    }
   ],
   "source": [
    "qtd_caracteristicas = len(df.columns[:-1])\n",
    "qtd_saidas = int(len(np.unique(df.iloc[:,-1].values))/2)\n",
    "qtd_neuronios = int((qtd_caracteristicas+qtd_saidas)/2)\n",
    "\n",
    "print(f\"Base possui {qtd_caracteristicas} com {qtd_saidas} neurônio(s) para saída. Com isso, o número de neurônios das camadas escondidas será {qtd_neuronios}\")"
   ]
  },
  {
   "cell_type": "code",
   "execution_count": 104,
   "metadata": {},
   "outputs": [],
   "source": [
    "# obter apenas os valores \n",
    "features = df.columns[:-1] ## Retirada do Resultado                     \n",
    "x = df.loc[:, features].values\n",
    "y = df.iloc[:,-1].values"
   ]
  },
  {
   "cell_type": "code",
   "execution_count": 105,
   "metadata": {},
   "outputs": [],
   "source": [
    "## Dividindo o dataset\n",
    "train_features, test_features, train_targets, test_targets = train_test_split(\n",
    "    x                       ## Array de Features\n",
    "    , y                     ## Array de Targets\n",
    "    , test_size = 0.2       ## Percentual do Conjunto de Testes\n",
    "    , random_state = 123    ## Estado de Random - Serve para manter os valores \n",
    "    , stratify = y)         ## Manter proporção de valores da saída do treino similar a saída dos testes"
   ]
  },
  {
   "cell_type": "code",
   "execution_count": 106,
   "metadata": {},
   "outputs": [],
   "source": [
    "#   Accuracy tells you how many times the ML model was correct overall. \n",
    "#   Precision is how good the model is at predicting a specific category. \n",
    "#   Recall tells you how many times the model was able to detect a specific category."
   ]
  },
  {
   "cell_type": "code",
   "execution_count": 107,
   "metadata": {},
   "outputs": [],
   "source": [
    "# In the docs:\n",
    "\n",
    "#     hidden_layer_sizes : tuple, length = n_layers - 2, default (100,)\n",
    "\n",
    "# means : hidden_layer_sizes is a tuple of size (n_layers -2)\n",
    "\n",
    "# n_layers means no of layers we want as per architecture.\n",
    "\n",
    "# Value 2 is subtracted from n_layers because two layers (input & output ) are not part of hidden layers, so not belong to the count.\n",
    "\n",
    "# default(100,) means if no value is provided for hidden_layer_sizes then default architecture will have one input layer, one hidden layer with 100 units and one output layer."
   ]
  },
  {
   "cell_type": "code",
   "execution_count": 108,
   "metadata": {},
   "outputs": [],
   "source": [
    "def buildMPLPerceptron(train_features, test_features, train_targets, test_targets\n",
    ", layer_size = 100, activation_function = 'relu', optimization_function = 'sgd'\n",
    ", learning = 'invscaling', alp = 0.0001, show_text = False, iter = 40):\n",
    "\n",
    "    global classifier\n",
    "    classifier = MLPClassifier(\n",
    "        hidden_layer_sizes = (layer_size,)\n",
    "        , max_iter = iter\n",
    "        , activation = activation_function\n",
    "        , solver = optimization_function\n",
    "        , verbose = show_text\n",
    "        , random_state= 457\n",
    "        , learning_rate = learning\n",
    "        , alpha = alp\n",
    "        )\n",
    "        \n",
    "    classifier.fit(train_features, train_targets)\n",
    "    predictions = classifier.predict(test_features)\n",
    "    \n",
    "    accuracy = accuracy_score(test_targets, predictions)\n",
    "    precision = precision_score(test_targets, predictions)\n",
    "    recall = recall_score(test_targets, predictions)\n",
    "\n",
    "    return np.round(accuracy,4), np.round(precision,4), np.round(recall,4)"
   ]
  },
  {
   "cell_type": "code",
   "execution_count": 109,
   "metadata": {},
   "outputs": [
    {
     "name": "stdout",
     "output_type": "stream",
     "text": [
      "Iteration 1, loss = 11.77226506\n",
      "Iteration 2, loss = 16.38348358\n",
      "Iteration 3, loss = 15.96251628\n",
      "Iteration 4, loss = 10.28811388\n",
      "Iteration 5, loss = 4.26032952\n",
      "Iteration 6, loss = 3.87659011\n",
      "Iteration 7, loss = 5.83668168\n",
      "Iteration 8, loss = 6.92784045\n",
      "Iteration 9, loss = 7.00252408\n",
      "Iteration 10, loss = 6.46425147\n",
      "Iteration 11, loss = 5.52084487\n",
      "Iteration 12, loss = 4.43626742\n",
      "Iteration 13, loss = 3.40926976\n",
      "Iteration 14, loss = 2.64875573\n",
      "Iteration 15, loss = 2.17220576\n",
      "Iteration 16, loss = 1.99316783\n",
      "Iteration 17, loss = 1.94881975\n",
      "Iteration 18, loss = 1.98150119\n",
      "Iteration 19, loss = 2.02257851\n",
      "Iteration 20, loss = 2.05240048\n",
      "Iteration 21, loss = 2.04423784\n",
      "Iteration 22, loss = 2.01046688\n",
      "Iteration 23, loss = 1.95324041\n",
      "Iteration 24, loss = 1.88845437\n",
      "Iteration 25, loss = 1.82466762\n",
      "Iteration 26, loss = 1.76961256\n",
      "Iteration 27, loss = 1.72519765\n",
      "Iteration 28, loss = 1.69509165\n",
      "Iteration 29, loss = 1.66768023\n",
      "Iteration 30, loss = 1.65507144\n",
      "Iteration 31, loss = 1.63770951\n",
      "Iteration 32, loss = 1.62668168\n",
      "Iteration 33, loss = 1.61482460\n",
      "Iteration 34, loss = 1.60570090\n",
      "Iteration 35, loss = 1.59521347\n",
      "Iteration 36, loss = 1.58519008\n",
      "Iteration 37, loss = 1.57574131\n",
      "Iteration 38, loss = 1.56637005\n",
      "Iteration 39, loss = 1.55707137\n",
      "Iteration 40, loss = 1.54870439\n",
      "Accuracy: 67.21000000000001% \n",
      "Precision: 69.69999999999999% \n",
      "Recall: 0.697\n"
     ]
    }
   ],
   "source": [
    "score = buildMPLPerceptron(train_features, test_features, train_targets, test_targets\n",
    ", show_text = True, layer_size = qtd_neuronios)\n",
    "print(f'Accuracy: {score[0]*100}% \\nPrecision: {score[1]*100}% \\nRecall: {score[2]}')"
   ]
  },
  {
   "cell_type": "code",
   "execution_count": 110,
   "metadata": {},
   "outputs": [],
   "source": [
    "# The loss function in a neural network quantifies the difference between the expected outcome \n",
    "# and the outcome produced by the machine learning model. \n",
    "# From the loss function, we can derive the gradients which are used to update the weights"
   ]
  },
  {
   "cell_type": "code",
   "execution_count": 111,
   "metadata": {},
   "outputs": [
    {
     "name": "stdout",
     "output_type": "stream",
     "text": [
      "Iteration 1, loss = 11.77226506\n",
      "Iteration 2, loss = 16.38348358\n",
      "Iteration 3, loss = 15.96251628\n",
      "Iteration 4, loss = 10.28811388\n",
      "Iteration 5, loss = 4.26032952\n",
      "Iteration 6, loss = 3.87659011\n",
      "Iteration 7, loss = 5.83668168\n",
      "Iteration 8, loss = 6.92784045\n",
      "Iteration 9, loss = 7.00252408\n",
      "Iteration 10, loss = 6.46425147\n",
      "Iteration 11, loss = 5.52084487\n",
      "Iteration 12, loss = 4.43626742\n",
      "Iteration 13, loss = 3.40926976\n",
      "Iteration 14, loss = 2.64875573\n",
      "Iteration 15, loss = 2.17220576\n",
      "Iteration 16, loss = 1.99316783\n",
      "Iteration 17, loss = 1.94881975\n",
      "Iteration 18, loss = 1.98150119\n",
      "Iteration 19, loss = 2.02257851\n",
      "Iteration 20, loss = 2.05240048\n",
      "Iteration 21, loss = 2.04423784\n",
      "Iteration 22, loss = 2.01046688\n",
      "Iteration 23, loss = 1.95324041\n",
      "Iteration 24, loss = 1.88845437\n",
      "Iteration 25, loss = 1.82466762\n",
      "Iteration 26, loss = 1.76961256\n",
      "Iteration 27, loss = 1.72519765\n",
      "Iteration 28, loss = 1.69509165\n",
      "Iteration 29, loss = 1.66768023\n",
      "Iteration 30, loss = 1.65507144\n",
      "Iteration 31, loss = 1.63770951\n",
      "Iteration 32, loss = 1.62668168\n",
      "Iteration 33, loss = 1.61482460\n",
      "Iteration 34, loss = 1.60570090\n",
      "Iteration 35, loss = 1.59521347\n",
      "Iteration 36, loss = 1.58519008\n",
      "Iteration 37, loss = 1.57574131\n",
      "Iteration 38, loss = 1.56637005\n",
      "Iteration 39, loss = 1.55707137\n",
      "Iteration 40, loss = 1.54870439\n"
     ]
    },
    {
     "data": {
      "image/png": "[encoded data removed]",
      "text/plain": [
       "<Figure size 432x288 with 1 Axes>"
      ]
     },
     "metadata": {
      "needs_background": "light"
     },
     "output_type": "display_data"
    }
   ],
   "source": [
    "### Curva do resultado da função de perda\n",
    "\n",
    "model = classifier.fit(train_features, train_targets)\n",
    "\n",
    "plt.plot(range(1, model.n_iter_ + 1), model.loss_curve_)\n",
    "plt.title('Loss Curve')\n",
    "plt.xlabel('Number of epochs')\n",
    "plt.ylabel('Loss')\n",
    "plt.show()"
   ]
  },
  {
   "cell_type": "code",
   "execution_count": 112,
   "metadata": {},
   "outputs": [],
   "source": [
    "## Variando o tamanho das camadas\n",
    "\n",
    "scores_dict = dict()\n",
    "for i in range(80 , 120):\n",
    "    score = buildMPLPerceptron(train_features, test_features, train_targets, test_targets, layer_size = i)\n",
    "    scores_dict[i] = score"
   ]
  },
  {
   "cell_type": "code",
   "execution_count": 113,
   "metadata": {},
   "outputs": [
    {
     "data": {
      "text/plain": [
       "{80: (0.6557, 0.6429, 0.8182),\n",
       " 81: (0.6721, 0.76, 0.5758),\n",
       " 82: (0.5738, 0.5897, 0.697),\n",
       " 83: (0.7049, 0.7027, 0.7879),\n",
       " 84: (0.6885, 0.675, 0.8182),\n",
       " 85: (0.6885, 0.675, 0.8182),\n",
       " 86: (0.7049, 0.6744, 0.8788),\n",
       " 87: (0.7541, 0.7647, 0.7879),\n",
       " 88: (0.6393, 0.6486, 0.7273),\n",
       " 89: (0.6885, 0.6667, 0.8485),\n",
       " 90: (0.623, 0.625, 0.7576),\n",
       " 91: (0.6557, 0.6364, 0.8485),\n",
       " 92: (0.7049, 0.6829, 0.8485),\n",
       " 93: (0.7049, 0.7027, 0.7879),\n",
       " 94: (0.6721, 0.6757, 0.7576),\n",
       " 95: (0.541, 0.541, 1.0),\n",
       " 96: (0.6721, 0.6667, 0.7879),\n",
       " 97: (0.6557, 0.6579, 0.7576),\n",
       " 98: (0.6393, 0.6341, 0.7879),\n",
       " 99: (0.6721, 0.6512, 0.8485),\n",
       " 100: (0.7049, 0.6923, 0.8182),\n",
       " 101: (0.7213, 0.7222, 0.7879),\n",
       " 102: (0.6721, 0.6667, 0.7879),\n",
       " 103: (0.6885, 0.6944, 0.7576),\n",
       " 104: (0.6557, 0.65, 0.7879),\n",
       " 105: (0.7049, 0.7143, 0.7576),\n",
       " 106: (0.6721, 0.6757, 0.7576),\n",
       " 107: (0.6885, 0.6842, 0.7879),\n",
       " 108: (0.6557, 0.6364, 0.8485),\n",
       " 109: (0.6885, 0.6667, 0.8485),\n",
       " 110: (0.6885, 0.6842, 0.7879),\n",
       " 111: (0.459, 0.0, 0.0),\n",
       " 112: (0.459, 0.0, 0.0),\n",
       " 113: (0.6885, 0.675, 0.8182),\n",
       " 114: (0.6557, 0.6364, 0.8485),\n",
       " 115: (0.6885, 0.7059, 0.7273),\n",
       " 116: (0.623, 0.5926, 0.9697),\n",
       " 117: (0.6885, 0.6944, 0.7576),\n",
       " 118: (0.7049, 0.7027, 0.7879),\n",
       " 119: (0.6885, 0.675, 0.8182)}"
      ]
     },
     "execution_count": 113,
     "metadata": {},
     "output_type": "execute_result"
    }
   ],
   "source": [
    "scores_dict"
   ]
  },
  {
   "cell_type": "code",
   "execution_count": 114,
   "metadata": {},
   "outputs": [
    {
     "name": "stdout",
     "output_type": "stream",
     "text": [
      "\n",
      "    Melhor resultado com 87 de tamanho\n",
      "    Accuracy: 75.41%\n",
      "    Precision: 76.47%\n",
      "    Recall: 0.7879\n",
      "\n"
     ]
    }
   ],
   "source": [
    "max_idx = max(scores_dict, key= lambda x: scores_dict[x][0])\n",
    "print(f\"\"\"\n",
    "    Melhor resultado com {max_idx} de tamanho\n",
    "    Accuracy: {round(scores_dict[max_idx][0]*100 , 2)}%\n",
    "    Precision: {round(scores_dict[max_idx][1]*100 , 2)}%\n",
    "    Recall: {scores_dict[max_idx][2]}\n",
    "\"\"\")"
   ]
  },
  {
   "cell_type": "code",
   "execution_count": 115,
   "metadata": {},
   "outputs": [
    {
     "data": {
      "image/png": "[encoded data removed]",
      "text/plain": [
       "<Figure size 432x288 with 1 Axes>"
      ]
     },
     "metadata": {
      "needs_background": "light"
     },
     "output_type": "display_data"
    }
   ],
   "source": [
    "### Curva do resultado da função de perda\n",
    "\n",
    "buildMPLPerceptron(train_features, test_features, train_targets, test_targets, layer_size = max_idx)\n",
    "\n",
    "model = classifier.fit(train_features, train_targets)\n",
    "\n",
    "plt.plot(range(1, model.n_iter_ + 1), model.loss_curve_)\n",
    "plt.title('Loss Curve')\n",
    "plt.xlabel('Number of epochs')\n",
    "plt.ylabel('Loss')\n",
    "plt.show()"
   ]
  },
  {
   "cell_type": "code",
   "execution_count": 116,
   "metadata": {},
   "outputs": [],
   "source": [
    "# activation{'identity’, ‘logistic’, ‘tanh’, ‘relu’}, default=’relu’\n",
    "## Testar diferentes Funções de Ativação\n",
    "activation = ['identity', 'logistic', 'tanh', 'relu']\n",
    "scores_dict = dict()\n",
    "for act in activation:\n",
    "    score = buildMPLPerceptron(train_features, test_features, train_targets, test_targets, activation_function = act)\n",
    "    scores_dict[act] = score\n"
   ]
  },
  {
   "cell_type": "code",
   "execution_count": 117,
   "metadata": {},
   "outputs": [
    {
     "data": {
      "text/plain": [
       "{'identity': (0.6885, 0.7333, 0.6667),\n",
       " 'logistic': (0.6066, 0.8, 0.3636),\n",
       " 'tanh': (0.7049, 0.7778, 0.6364),\n",
       " 'relu': (0.7049, 0.6923, 0.8182)}"
      ]
     },
     "execution_count": 117,
     "metadata": {},
     "output_type": "execute_result"
    }
   ],
   "source": [
    "scores_dict"
   ]
  },
  {
   "cell_type": "code",
   "execution_count": 118,
   "metadata": {},
   "outputs": [
    {
     "name": "stdout",
     "output_type": "stream",
     "text": [
      "\n",
      "    Melhor resultado com função de ativação tanh\n",
      "    Accuracy: 70.49%\n",
      "    Precision: 77.78%\n",
      "    Recall: 0.6364\n",
      "\n"
     ]
    }
   ],
   "source": [
    "max_idx = max(scores_dict, key= lambda x: scores_dict[x][0])\n",
    "print(f\"\"\"\n",
    "    Melhor resultado com função de ativação {max_idx}\n",
    "    Accuracy: {round(scores_dict[max_idx][0]*100 , 2)}%\n",
    "    Precision: {round(scores_dict[max_idx][1]*100 , 2)}%\n",
    "    Recall: {scores_dict[max_idx][2]}\n",
    "\"\"\")"
   ]
  },
  {
   "cell_type": "code",
   "execution_count": 119,
   "metadata": {},
   "outputs": [],
   "source": [
    "## Variando o alpha\n",
    "alpha = [1, 0.5, 0.1, 0.05, 0.01, 0.005, 0.001, 0.0005, 0.0001]\n",
    "scores_dict = dict()\n",
    "for a in alpha:\n",
    "    score = buildMPLPerceptron(train_features, test_features, train_targets, test_targets, alp = a)\n",
    "    scores_dict[a] = score"
   ]
  },
  {
   "cell_type": "code",
   "execution_count": 120,
   "metadata": {},
   "outputs": [
    {
     "data": {
      "text/plain": [
       "{1: (0.7049, 0.6923, 0.8182),\n",
       " 0.5: (0.7049, 0.6923, 0.8182),\n",
       " 0.1: (0.7049, 0.6923, 0.8182),\n",
       " 0.05: (0.7049, 0.6923, 0.8182),\n",
       " 0.01: (0.7049, 0.6923, 0.8182),\n",
       " 0.005: (0.7049, 0.6923, 0.8182),\n",
       " 0.001: (0.7049, 0.6923, 0.8182),\n",
       " 0.0005: (0.7049, 0.6923, 0.8182),\n",
       " 0.0001: (0.7049, 0.6923, 0.8182)}"
      ]
     },
     "execution_count": 120,
     "metadata": {},
     "output_type": "execute_result"
    }
   ],
   "source": [
    "scores_dict"
   ]
  },
  {
   "cell_type": "code",
   "execution_count": 121,
   "metadata": {},
   "outputs": [
    {
     "name": "stdout",
     "output_type": "stream",
     "text": [
      "\n",
      "    Melhor resultado com alpha 1\n",
      "    Accuracy: 70.49%\n",
      "    Precision: 69.23%\n",
      "    Recall: 0.8182\n",
      "\n"
     ]
    }
   ],
   "source": [
    "max_idx = max(scores_dict, key= lambda x: scores_dict[x][0])\n",
    "print(f\"\"\"\n",
    "    Melhor resultado com alpha {max_idx}\n",
    "    Accuracy: {round(scores_dict[max_idx][0]*100 , 2)}%\n",
    "    Precision: {round(scores_dict[max_idx][1]*100 , 2)}%\n",
    "    Recall: {scores_dict[max_idx][2]}\n",
    "\"\"\")"
   ]
  },
  {
   "cell_type": "code",
   "execution_count": 122,
   "metadata": {},
   "outputs": [
    {
     "data": {
      "image/png": "[encoded data removed]",
      "text/plain": [
       "<Figure size 432x288 with 1 Axes>"
      ]
     },
     "metadata": {
      "needs_background": "light"
     },
     "output_type": "display_data"
    }
   ],
   "source": [
    "### Curva do resultado da função de perda\n",
    "# The loss function is the function that computes the distance between the current output \n",
    "# of the algorithm and the expected output\n",
    "\n",
    "buildMPLPerceptron(train_features, test_features, train_targets, test_targets, alp = max_idx)\n",
    "\n",
    "model = classifier.fit(train_features, train_targets)\n",
    "\n",
    "plt.plot(range(1, model.n_iter_ + 1), model.loss_curve_)\n",
    "plt.title('Loss Curve')\n",
    "plt.xlabel('Number of epochs')\n",
    "plt.ylabel('Loss')\n",
    "plt.show()"
   ]
  },
  {
   "cell_type": "code",
   "execution_count": 123,
   "metadata": {},
   "outputs": [
    {
     "data": {
      "image/png": "[encoded data removed]",
      "text/plain": [
       "<Figure size 432x288 with 2 Axes>"
      ]
     },
     "metadata": {
      "needs_background": "light"
     },
     "output_type": "display_data"
    }
   ],
   "source": [
    "import matplotlib.pyplot as plt\n",
    "from sklearn.metrics import plot_confusion_matrix\n",
    " \n",
    "color = 'black'\n",
    "matrix = plot_confusion_matrix(classifier, test_features, test_targets, cmap=plt.cm.Blues)\n",
    "matrix.ax_.set_title('Confusion Matrix', color=color)\n",
    "plt.xlabel('Predicted Label', color=color)\n",
    "plt.ylabel('True Label', color=color)\n",
    "plt.gcf().axes[0].tick_params(colors=color)\n",
    "plt.gcf().axes[1].tick_params(colors=color)\n",
    "plt.show()"
   ]
  }
 ],
 "metadata": {
  "interpreter": {
   "hash": "f96714dcabff3110d3d51c5a6b1c25a65aaf8d65f7a9f2e166a2d737653d41ae"
  },
  "kernelspec": {
   "display_name": "Python 3.9.0 64-bit",
   "language": "python",
   "name": "python3"
  },
  "language_info": {
   "codemirror_mode": {
    "name": "ipython",
    "version": 3
   },
   "file_extension": ".py",
   "mimetype": "text/x-python",
   "name": "python",
   "nbconvert_exporter": "python",
   "pygments_lexer": "ipython3",
   "version": "3.8.5"
  },
  "orig_nbformat": 4
 },
 "nbformat": 4,
 "nbformat_minor": 2
}
